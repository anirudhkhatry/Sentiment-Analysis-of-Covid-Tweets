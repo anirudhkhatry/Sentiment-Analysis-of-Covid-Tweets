{
 "cells": [
  {
   "cell_type": "markdown",
   "metadata": {
    "papermill": {
     "duration": 0.017584,
     "end_time": "2020-08-10T17:23:53.726945",
     "exception": false,
     "start_time": "2020-08-10T17:23:53.709361",
     "status": "completed"
    },
    "tags": []
   },
   "source": [
    "# EDA and Sentiment Analysis on COVID19 Tweets\n"
   ]
  },
  {
   "cell_type": "code",
   "execution_count": 1,
   "metadata": {
    "_cell_guid": "b1076dfc-b9ad-4769-8c92-a6c4dae69d19",
    "_uuid": "8f2839f25d086af736a60e9eeb907d3b93b6e0e5",
    "execution": {
     "iopub.execute_input": "2020-08-10T17:23:53.767387Z",
     "iopub.status.busy": "2020-08-10T17:23:53.766591Z",
     "iopub.status.idle": "2020-08-10T17:23:53.775078Z",
     "shell.execute_reply": "2020-08-10T17:23:53.775761Z"
    },
    "papermill": {
     "duration": 0.032664,
     "end_time": "2020-08-10T17:23:53.775975",
     "exception": false,
     "start_time": "2020-08-10T17:23:53.743311",
     "status": "completed"
    },
    "tags": []
   },
   "outputs": [],
   "source": [
    "import numpy as np # linear algebra\n",
    "import pandas as pd # data processing, CSV file I/O (e.g. pd.read_csv)\n",
    "import os"
   ]
  },
  {
   "cell_type": "code",
   "execution_count": 2,
   "metadata": {
    "_cell_guid": "79c7e3d0-c299-4dcb-8224-4455121ee9b0",
    "_uuid": "d629ff2d2480ee46fbb7e2d37f6b5fab8052498a",
    "execution": {
     "iopub.execute_input": "2020-08-10T17:23:53.813446Z",
     "iopub.status.busy": "2020-08-10T17:23:53.812764Z",
     "iopub.status.idle": "2020-08-10T17:23:54.537689Z",
     "shell.execute_reply": "2020-08-10T17:23:54.536275Z"
    },
    "papermill": {
     "duration": 0.745526,
     "end_time": "2020-08-10T17:23:54.537846",
     "exception": false,
     "start_time": "2020-08-10T17:23:53.792320",
     "status": "completed"
    },
    "tags": []
   },
   "outputs": [],
   "source": [
    "import pandas as pd\n",
    "\n",
    "df = pd.read_csv('covid19_tweets.csv')"
   ]
  },
  {
   "cell_type": "markdown",
   "metadata": {
    "papermill": {
     "duration": 0.016137,
     "end_time": "2020-08-10T17:23:54.570307",
     "exception": false,
     "start_time": "2020-08-10T17:23:54.554170",
     "status": "completed"
    },
    "tags": []
   },
   "source": [
    "# EDA on Covid19 Tweets"
   ]
  },
  {
   "cell_type": "code",
   "execution_count": 3,
   "metadata": {
    "execution": {
     "iopub.execute_input": "2020-08-10T17:23:54.619491Z",
     "iopub.status.busy": "2020-08-10T17:23:54.618609Z",
     "iopub.status.idle": "2020-08-10T17:23:54.632071Z",
     "shell.execute_reply": "2020-08-10T17:23:54.632564Z"
    },
    "papermill": {
     "duration": 0.046074,
     "end_time": "2020-08-10T17:23:54.632701",
     "exception": false,
     "start_time": "2020-08-10T17:23:54.586627",
     "status": "completed"
    },
    "tags": []
   },
   "outputs": [
    {
     "data": {
      "text/html": [
       "<div>\n",
       "<style scoped>\n",
       "    .dataframe tbody tr th:only-of-type {\n",
       "        vertical-align: middle;\n",
       "    }\n",
       "\n",
       "    .dataframe tbody tr th {\n",
       "        vertical-align: top;\n",
       "    }\n",
       "\n",
       "    .dataframe thead th {\n",
       "        text-align: right;\n",
       "    }\n",
       "</style>\n",
       "<table border=\"1\" class=\"dataframe\">\n",
       "  <thead>\n",
       "    <tr style=\"text-align: right;\">\n",
       "      <th></th>\n",
       "      <th>user_name</th>\n",
       "      <th>user_location</th>\n",
       "      <th>user_description</th>\n",
       "      <th>user_created</th>\n",
       "      <th>user_followers</th>\n",
       "      <th>user_friends</th>\n",
       "      <th>user_favourites</th>\n",
       "      <th>user_verified</th>\n",
       "      <th>date</th>\n",
       "      <th>text</th>\n",
       "      <th>hashtags</th>\n",
       "      <th>source</th>\n",
       "      <th>is_retweet</th>\n",
       "    </tr>\n",
       "  </thead>\n",
       "  <tbody>\n",
       "    <tr>\n",
       "      <th>0</th>\n",
       "      <td>ᏉᎥ☻լꂅϮ</td>\n",
       "      <td>astroworld</td>\n",
       "      <td>wednesday addams as a disney princess keepin i...</td>\n",
       "      <td>2017-05-26 05:46:42</td>\n",
       "      <td>624</td>\n",
       "      <td>950</td>\n",
       "      <td>18775</td>\n",
       "      <td>False</td>\n",
       "      <td>2020-07-25 12:27:21</td>\n",
       "      <td>If I smelled the scent of hand sanitizers toda...</td>\n",
       "      <td>NaN</td>\n",
       "      <td>Twitter for iPhone</td>\n",
       "      <td>False</td>\n",
       "    </tr>\n",
       "    <tr>\n",
       "      <th>1</th>\n",
       "      <td>Tom Basile 🇺🇸</td>\n",
       "      <td>New York, NY</td>\n",
       "      <td>Husband, Father, Columnist &amp; Commentator. Auth...</td>\n",
       "      <td>2009-04-16 20:06:23</td>\n",
       "      <td>2253</td>\n",
       "      <td>1677</td>\n",
       "      <td>24</td>\n",
       "      <td>True</td>\n",
       "      <td>2020-07-25 12:27:17</td>\n",
       "      <td>Hey @Yankees @YankeesPR and @MLB - wouldn't it...</td>\n",
       "      <td>NaN</td>\n",
       "      <td>Twitter for Android</td>\n",
       "      <td>False</td>\n",
       "    </tr>\n",
       "    <tr>\n",
       "      <th>2</th>\n",
       "      <td>Time4fisticuffs</td>\n",
       "      <td>Pewee Valley, KY</td>\n",
       "      <td>#Christian #Catholic #Conservative #Reagan #Re...</td>\n",
       "      <td>2009-02-28 18:57:41</td>\n",
       "      <td>9275</td>\n",
       "      <td>9525</td>\n",
       "      <td>7254</td>\n",
       "      <td>False</td>\n",
       "      <td>2020-07-25 12:27:14</td>\n",
       "      <td>@diane3443 @wdunlap @realDonaldTrump Trump nev...</td>\n",
       "      <td>['COVID19']</td>\n",
       "      <td>Twitter for Android</td>\n",
       "      <td>False</td>\n",
       "    </tr>\n",
       "    <tr>\n",
       "      <th>3</th>\n",
       "      <td>ethel mertz</td>\n",
       "      <td>Stuck in the Middle</td>\n",
       "      <td>#Browns #Indians #ClevelandProud #[]_[] #Cavs ...</td>\n",
       "      <td>2019-03-07 01:45:06</td>\n",
       "      <td>197</td>\n",
       "      <td>987</td>\n",
       "      <td>1488</td>\n",
       "      <td>False</td>\n",
       "      <td>2020-07-25 12:27:10</td>\n",
       "      <td>@brookbanktv The one gift #COVID19 has give me...</td>\n",
       "      <td>['COVID19']</td>\n",
       "      <td>Twitter for iPhone</td>\n",
       "      <td>False</td>\n",
       "    </tr>\n",
       "    <tr>\n",
       "      <th>4</th>\n",
       "      <td>DIPR-J&amp;K</td>\n",
       "      <td>Jammu and Kashmir</td>\n",
       "      <td>🖊️Official Twitter handle of Department of Inf...</td>\n",
       "      <td>2017-02-12 06:45:15</td>\n",
       "      <td>101009</td>\n",
       "      <td>168</td>\n",
       "      <td>101</td>\n",
       "      <td>False</td>\n",
       "      <td>2020-07-25 12:27:08</td>\n",
       "      <td>25 July : Media Bulletin on Novel #CoronaVirus...</td>\n",
       "      <td>['CoronaVirusUpdates', 'COVID19']</td>\n",
       "      <td>Twitter for Android</td>\n",
       "      <td>False</td>\n",
       "    </tr>\n",
       "  </tbody>\n",
       "</table>\n",
       "</div>"
      ],
      "text/plain": [
       "         user_name         user_location  \\\n",
       "0           ᏉᎥ☻լꂅϮ            astroworld   \n",
       "1    Tom Basile 🇺🇸          New York, NY   \n",
       "2  Time4fisticuffs      Pewee Valley, KY   \n",
       "3      ethel mertz  Stuck in the Middle    \n",
       "4         DIPR-J&K     Jammu and Kashmir   \n",
       "\n",
       "                                    user_description         user_created  \\\n",
       "0  wednesday addams as a disney princess keepin i...  2017-05-26 05:46:42   \n",
       "1  Husband, Father, Columnist & Commentator. Auth...  2009-04-16 20:06:23   \n",
       "2  #Christian #Catholic #Conservative #Reagan #Re...  2009-02-28 18:57:41   \n",
       "3  #Browns #Indians #ClevelandProud #[]_[] #Cavs ...  2019-03-07 01:45:06   \n",
       "4  🖊️Official Twitter handle of Department of Inf...  2017-02-12 06:45:15   \n",
       "\n",
       "   user_followers  user_friends  user_favourites  user_verified  \\\n",
       "0             624           950            18775          False   \n",
       "1            2253          1677               24           True   \n",
       "2            9275          9525             7254          False   \n",
       "3             197           987             1488          False   \n",
       "4          101009           168              101          False   \n",
       "\n",
       "                  date                                               text  \\\n",
       "0  2020-07-25 12:27:21  If I smelled the scent of hand sanitizers toda...   \n",
       "1  2020-07-25 12:27:17  Hey @Yankees @YankeesPR and @MLB - wouldn't it...   \n",
       "2  2020-07-25 12:27:14  @diane3443 @wdunlap @realDonaldTrump Trump nev...   \n",
       "3  2020-07-25 12:27:10  @brookbanktv The one gift #COVID19 has give me...   \n",
       "4  2020-07-25 12:27:08  25 July : Media Bulletin on Novel #CoronaVirus...   \n",
       "\n",
       "                            hashtags               source  is_retweet  \n",
       "0                                NaN   Twitter for iPhone       False  \n",
       "1                                NaN  Twitter for Android       False  \n",
       "2                        ['COVID19']  Twitter for Android       False  \n",
       "3                        ['COVID19']   Twitter for iPhone       False  \n",
       "4  ['CoronaVirusUpdates', 'COVID19']  Twitter for Android       False  "
      ]
     },
     "execution_count": 3,
     "metadata": {},
     "output_type": "execute_result"
    }
   ],
   "source": [
    "df.head()"
   ]
  },
  {
   "cell_type": "code",
   "execution_count": 4,
   "metadata": {
    "execution": {
     "iopub.execute_input": "2020-08-10T17:23:54.688161Z",
     "iopub.status.busy": "2020-08-10T17:23:54.687154Z",
     "iopub.status.idle": "2020-08-10T17:23:54.691508Z",
     "shell.execute_reply": "2020-08-10T17:23:54.692046Z"
    },
    "papermill": {
     "duration": 0.042825,
     "end_time": "2020-08-10T17:23:54.692183",
     "exception": false,
     "start_time": "2020-08-10T17:23:54.649358",
     "status": "completed"
    },
    "tags": []
   },
   "outputs": [
    {
     "data": {
      "text/html": [
       "<div>\n",
       "<style scoped>\n",
       "    .dataframe tbody tr th:only-of-type {\n",
       "        vertical-align: middle;\n",
       "    }\n",
       "\n",
       "    .dataframe tbody tr th {\n",
       "        vertical-align: top;\n",
       "    }\n",
       "\n",
       "    .dataframe thead th {\n",
       "        text-align: right;\n",
       "    }\n",
       "</style>\n",
       "<table border=\"1\" class=\"dataframe\">\n",
       "  <thead>\n",
       "    <tr style=\"text-align: right;\">\n",
       "      <th></th>\n",
       "      <th>user_name</th>\n",
       "      <th>user_location</th>\n",
       "      <th>user_description</th>\n",
       "      <th>user_created</th>\n",
       "      <th>user_followers</th>\n",
       "      <th>user_friends</th>\n",
       "      <th>user_favourites</th>\n",
       "      <th>user_verified</th>\n",
       "      <th>date</th>\n",
       "      <th>text</th>\n",
       "      <th>hashtags</th>\n",
       "      <th>source</th>\n",
       "      <th>is_retweet</th>\n",
       "    </tr>\n",
       "  </thead>\n",
       "  <tbody>\n",
       "    <tr>\n",
       "      <th>179103</th>\n",
       "      <td>AJIMATI AbdulRahman O.</td>\n",
       "      <td>Ilorin, Nigeria</td>\n",
       "      <td>Animal Scientist|| Muslim|| Real Madrid/Chelsea</td>\n",
       "      <td>2013-12-30 18:59:19</td>\n",
       "      <td>412</td>\n",
       "      <td>1609</td>\n",
       "      <td>1062</td>\n",
       "      <td>False</td>\n",
       "      <td>2020-08-29 19:44:21</td>\n",
       "      <td>Thanks @IamOhmai for nominating me for the @WH...</td>\n",
       "      <td>['WearAMask']</td>\n",
       "      <td>Twitter for Android</td>\n",
       "      <td>False</td>\n",
       "    </tr>\n",
       "    <tr>\n",
       "      <th>179104</th>\n",
       "      <td>Jason</td>\n",
       "      <td>Ontario</td>\n",
       "      <td>When your cat has more baking soda than Ninja ...</td>\n",
       "      <td>2011-12-21 04:41:30</td>\n",
       "      <td>150</td>\n",
       "      <td>182</td>\n",
       "      <td>7295</td>\n",
       "      <td>False</td>\n",
       "      <td>2020-08-29 19:44:16</td>\n",
       "      <td>2020! The year of insanity! Lol! #COVID19 http...</td>\n",
       "      <td>['COVID19']</td>\n",
       "      <td>Twitter for Android</td>\n",
       "      <td>False</td>\n",
       "    </tr>\n",
       "    <tr>\n",
       "      <th>179105</th>\n",
       "      <td>BEEHEMOTH ⏳</td>\n",
       "      <td>🇨🇦 Canada</td>\n",
       "      <td>⚒️ The Architects of Free Trade ⚒️ Really Did ...</td>\n",
       "      <td>2016-07-13 17:21:59</td>\n",
       "      <td>1623</td>\n",
       "      <td>2160</td>\n",
       "      <td>98000</td>\n",
       "      <td>False</td>\n",
       "      <td>2020-08-29 19:44:15</td>\n",
       "      <td>@CTVNews A powerful painting by Juan Lucena. I...</td>\n",
       "      <td>NaN</td>\n",
       "      <td>Twitter Web App</td>\n",
       "      <td>False</td>\n",
       "    </tr>\n",
       "    <tr>\n",
       "      <th>179106</th>\n",
       "      <td>Gary DelPonte</td>\n",
       "      <td>New York City</td>\n",
       "      <td>Global UX UI Visual Designer. StoryTeller, Mus...</td>\n",
       "      <td>2009-10-27 17:43:13</td>\n",
       "      <td>1338</td>\n",
       "      <td>1111</td>\n",
       "      <td>0</td>\n",
       "      <td>False</td>\n",
       "      <td>2020-08-29 19:44:14</td>\n",
       "      <td>More than 1,200 students test positive for #CO...</td>\n",
       "      <td>['COVID19']</td>\n",
       "      <td>Twitter for iPhone</td>\n",
       "      <td>False</td>\n",
       "    </tr>\n",
       "    <tr>\n",
       "      <th>179107</th>\n",
       "      <td>TUKY II</td>\n",
       "      <td>Aliwal North, South Africa</td>\n",
       "      <td>TOKELO SEKHOPA | TUKY II | LAST BORN | EISH TU...</td>\n",
       "      <td>2018-04-14 17:30:07</td>\n",
       "      <td>97</td>\n",
       "      <td>1697</td>\n",
       "      <td>566</td>\n",
       "      <td>False</td>\n",
       "      <td>2020-08-29 19:44:08</td>\n",
       "      <td>I stop when I see a Stop\\n\\n@SABCNews\\n@Izinda...</td>\n",
       "      <td>NaN</td>\n",
       "      <td>Twitter for Android</td>\n",
       "      <td>False</td>\n",
       "    </tr>\n",
       "  </tbody>\n",
       "</table>\n",
       "</div>"
      ],
      "text/plain": [
       "                     user_name               user_location  \\\n",
       "179103  AJIMATI AbdulRahman O.             Ilorin, Nigeria   \n",
       "179104                   Jason                     Ontario   \n",
       "179105             BEEHEMOTH ⏳                   🇨🇦 Canada   \n",
       "179106           Gary DelPonte               New York City   \n",
       "179107                 TUKY II  Aliwal North, South Africa   \n",
       "\n",
       "                                         user_description  \\\n",
       "179103    Animal Scientist|| Muslim|| Real Madrid/Chelsea   \n",
       "179104  When your cat has more baking soda than Ninja ...   \n",
       "179105  ⚒️ The Architects of Free Trade ⚒️ Really Did ...   \n",
       "179106  Global UX UI Visual Designer. StoryTeller, Mus...   \n",
       "179107  TOKELO SEKHOPA | TUKY II | LAST BORN | EISH TU...   \n",
       "\n",
       "               user_created  user_followers  user_friends  user_favourites  \\\n",
       "179103  2013-12-30 18:59:19             412          1609             1062   \n",
       "179104  2011-12-21 04:41:30             150           182             7295   \n",
       "179105  2016-07-13 17:21:59            1623          2160            98000   \n",
       "179106  2009-10-27 17:43:13            1338          1111                0   \n",
       "179107  2018-04-14 17:30:07              97          1697              566   \n",
       "\n",
       "        user_verified                 date  \\\n",
       "179103          False  2020-08-29 19:44:21   \n",
       "179104          False  2020-08-29 19:44:16   \n",
       "179105          False  2020-08-29 19:44:15   \n",
       "179106          False  2020-08-29 19:44:14   \n",
       "179107          False  2020-08-29 19:44:08   \n",
       "\n",
       "                                                     text       hashtags  \\\n",
       "179103  Thanks @IamOhmai for nominating me for the @WH...  ['WearAMask']   \n",
       "179104  2020! The year of insanity! Lol! #COVID19 http...    ['COVID19']   \n",
       "179105  @CTVNews A powerful painting by Juan Lucena. I...            NaN   \n",
       "179106  More than 1,200 students test positive for #CO...    ['COVID19']   \n",
       "179107  I stop when I see a Stop\\n\\n@SABCNews\\n@Izinda...            NaN   \n",
       "\n",
       "                     source  is_retweet  \n",
       "179103  Twitter for Android       False  \n",
       "179104  Twitter for Android       False  \n",
       "179105      Twitter Web App       False  \n",
       "179106   Twitter for iPhone       False  \n",
       "179107  Twitter for Android       False  "
      ]
     },
     "execution_count": 4,
     "metadata": {},
     "output_type": "execute_result"
    }
   ],
   "source": [
    "df.tail()"
   ]
  },
  {
   "cell_type": "code",
   "execution_count": 5,
   "metadata": {
    "execution": {
     "iopub.execute_input": "2020-08-10T17:23:54.743542Z",
     "iopub.status.busy": "2020-08-10T17:23:54.742588Z",
     "iopub.status.idle": "2020-08-10T17:23:54.773467Z",
     "shell.execute_reply": "2020-08-10T17:23:54.772881Z"
    },
    "papermill": {
     "duration": 0.064242,
     "end_time": "2020-08-10T17:23:54.773579",
     "exception": false,
     "start_time": "2020-08-10T17:23:54.709337",
     "status": "completed"
    },
    "tags": []
   },
   "outputs": [
    {
     "data": {
      "text/html": [
       "<div>\n",
       "<style scoped>\n",
       "    .dataframe tbody tr th:only-of-type {\n",
       "        vertical-align: middle;\n",
       "    }\n",
       "\n",
       "    .dataframe tbody tr th {\n",
       "        vertical-align: top;\n",
       "    }\n",
       "\n",
       "    .dataframe thead th {\n",
       "        text-align: right;\n",
       "    }\n",
       "</style>\n",
       "<table border=\"1\" class=\"dataframe\">\n",
       "  <thead>\n",
       "    <tr style=\"text-align: right;\">\n",
       "      <th></th>\n",
       "      <th>user_followers</th>\n",
       "      <th>user_friends</th>\n",
       "      <th>user_favourites</th>\n",
       "    </tr>\n",
       "  </thead>\n",
       "  <tbody>\n",
       "    <tr>\n",
       "      <th>count</th>\n",
       "      <td>1.791080e+05</td>\n",
       "      <td>179108.000000</td>\n",
       "      <td>1.791080e+05</td>\n",
       "    </tr>\n",
       "    <tr>\n",
       "      <th>mean</th>\n",
       "      <td>1.090555e+05</td>\n",
       "      <td>2121.701566</td>\n",
       "      <td>1.444411e+04</td>\n",
       "    </tr>\n",
       "    <tr>\n",
       "      <th>std</th>\n",
       "      <td>8.414670e+05</td>\n",
       "      <td>9162.553072</td>\n",
       "      <td>4.452270e+04</td>\n",
       "    </tr>\n",
       "    <tr>\n",
       "      <th>min</th>\n",
       "      <td>0.000000e+00</td>\n",
       "      <td>0.000000</td>\n",
       "      <td>0.000000e+00</td>\n",
       "    </tr>\n",
       "    <tr>\n",
       "      <th>25%</th>\n",
       "      <td>1.720000e+02</td>\n",
       "      <td>148.000000</td>\n",
       "      <td>2.060000e+02</td>\n",
       "    </tr>\n",
       "    <tr>\n",
       "      <th>50%</th>\n",
       "      <td>9.920000e+02</td>\n",
       "      <td>542.000000</td>\n",
       "      <td>1.791000e+03</td>\n",
       "    </tr>\n",
       "    <tr>\n",
       "      <th>75%</th>\n",
       "      <td>5.284000e+03</td>\n",
       "      <td>1725.250000</td>\n",
       "      <td>9.388000e+03</td>\n",
       "    </tr>\n",
       "    <tr>\n",
       "      <th>max</th>\n",
       "      <td>4.944256e+07</td>\n",
       "      <td>497363.000000</td>\n",
       "      <td>2.047197e+06</td>\n",
       "    </tr>\n",
       "  </tbody>\n",
       "</table>\n",
       "</div>"
      ],
      "text/plain": [
       "       user_followers   user_friends  user_favourites\n",
       "count    1.791080e+05  179108.000000     1.791080e+05\n",
       "mean     1.090555e+05    2121.701566     1.444411e+04\n",
       "std      8.414670e+05    9162.553072     4.452270e+04\n",
       "min      0.000000e+00       0.000000     0.000000e+00\n",
       "25%      1.720000e+02     148.000000     2.060000e+02\n",
       "50%      9.920000e+02     542.000000     1.791000e+03\n",
       "75%      5.284000e+03    1725.250000     9.388000e+03\n",
       "max      4.944256e+07  497363.000000     2.047197e+06"
      ]
     },
     "execution_count": 5,
     "metadata": {},
     "output_type": "execute_result"
    }
   ],
   "source": [
    "df.describe()"
   ]
  },
  {
   "cell_type": "code",
   "execution_count": 6,
   "metadata": {
    "execution": {
     "iopub.execute_input": "2020-08-10T17:23:54.813263Z",
     "iopub.status.busy": "2020-08-10T17:23:54.812461Z",
     "iopub.status.idle": "2020-08-10T17:23:54.816875Z",
     "shell.execute_reply": "2020-08-10T17:23:54.817593Z"
    },
    "papermill": {
     "duration": 0.026638,
     "end_time": "2020-08-10T17:23:54.817773",
     "exception": false,
     "start_time": "2020-08-10T17:23:54.791135",
     "status": "completed"
    },
    "tags": []
   },
   "outputs": [
    {
     "name": "stdout",
     "output_type": "stream",
     "text": [
      "Shape of tweets dataframe : (179108, 13)\n"
     ]
    }
   ],
   "source": [
    "print('Shape of tweets dataframe : {}'.format(df.shape))"
   ]
  },
  {
   "cell_type": "code",
   "execution_count": 7,
   "metadata": {
    "execution": {
     "iopub.execute_input": "2020-08-10T17:23:55.005489Z",
     "iopub.status.busy": "2020-08-10T17:23:55.004489Z",
     "iopub.status.idle": "2020-08-10T17:23:55.026728Z",
     "shell.execute_reply": "2020-08-10T17:23:55.027875Z"
    },
    "papermill": {
     "duration": 0.185606,
     "end_time": "2020-08-10T17:23:55.028078",
     "exception": false,
     "start_time": "2020-08-10T17:23:54.842472",
     "status": "completed"
    },
    "tags": []
   },
   "outputs": [
    {
     "name": "stdout",
     "output_type": "stream",
     "text": [
      "<class 'pandas.core.frame.DataFrame'>\n",
      "RangeIndex: 179108 entries, 0 to 179107\n",
      "Data columns (total 13 columns):\n",
      " #   Column            Non-Null Count   Dtype \n",
      "---  ------            --------------   ----- \n",
      " 0   user_name         179108 non-null  object\n",
      " 1   user_location     142337 non-null  object\n",
      " 2   user_description  168822 non-null  object\n",
      " 3   user_created      179108 non-null  object\n",
      " 4   user_followers    179108 non-null  int64 \n",
      " 5   user_friends      179108 non-null  int64 \n",
      " 6   user_favourites   179108 non-null  int64 \n",
      " 7   user_verified     179108 non-null  bool  \n",
      " 8   date              179108 non-null  object\n",
      " 9   text              179108 non-null  object\n",
      " 10  hashtags          127774 non-null  object\n",
      " 11  source            179031 non-null  object\n",
      " 12  is_retweet        179108 non-null  bool  \n",
      "dtypes: bool(2), int64(3), object(8)\n",
      "memory usage: 15.4+ MB\n"
     ]
    }
   ],
   "source": [
    "df.info()"
   ]
  },
  {
   "cell_type": "markdown",
   "metadata": {
    "papermill": {
     "duration": 0.027315,
     "end_time": "2020-08-10T17:23:55.081264",
     "exception": false,
     "start_time": "2020-08-10T17:23:55.053949",
     "status": "completed"
    },
    "tags": []
   },
   "source": [
    "\n",
    "## Plot Missing Values"
   ]
  },
  {
   "cell_type": "code",
   "execution_count": 8,
   "metadata": {
    "execution": {
     "iopub.execute_input": "2020-08-10T17:23:55.144662Z",
     "iopub.status.busy": "2020-08-10T17:23:55.143635Z",
     "iopub.status.idle": "2020-08-10T17:23:56.260779Z",
     "shell.execute_reply": "2020-08-10T17:23:56.259541Z"
    },
    "papermill": {
     "duration": 1.154968,
     "end_time": "2020-08-10T17:23:56.260936",
     "exception": false,
     "start_time": "2020-08-10T17:23:55.105968",
     "status": "completed"
    },
    "tags": []
   },
   "outputs": [],
   "source": [
    "\n",
    "\n",
    "import seaborn as sns\n",
    "import matplotlib.pyplot as plt\n",
    "\n",
    "def return_missing_values(data_frame):\n",
    "    missing_values = data_frame.isnull().sum()/len(data_frame)\n",
    "    missing_values = missing_values[missing_values>0]\n",
    "    missing_values.sort_values(inplace=True)\n",
    "    return missing_values\n",
    "\n",
    "def plot_missing_values(data_frame):\n",
    "    missing_values = return_missing_values(data_frame)\n",
    "    missing_values = missing_values.to_frame()\n",
    "    missing_values.columns = ['count']\n",
    "    missing_values.index.names = ['Name']\n",
    "    missing_values['Name'] = missing_values.index\n",
    "    sns.set(style='whitegrid', color_codes=True)\n",
    "    sns.barplot(x='Name', y='count', data=missing_values)\n",
    "    plt.xticks(rotation=90)\n",
    "    plt.show()\n",
    "     "
   ]
  },
  {
   "cell_type": "code",
   "execution_count": 9,
   "metadata": {
    "execution": {
     "iopub.execute_input": "2020-08-10T17:23:56.387092Z",
     "iopub.status.busy": "2020-08-10T17:23:56.386046Z",
     "iopub.status.idle": "2020-08-10T17:23:56.420397Z",
     "shell.execute_reply": "2020-08-10T17:23:56.419376Z"
    },
    "papermill": {
     "duration": 0.138787,
     "end_time": "2020-08-10T17:23:56.420512",
     "exception": false,
     "start_time": "2020-08-10T17:23:56.281725",
     "status": "completed"
    },
    "tags": []
   },
   "outputs": [
    {
     "data": {
      "text/plain": [
       "source              0.000430\n",
       "user_description    0.057429\n",
       "user_location       0.205301\n",
       "hashtags            0.286609\n",
       "dtype: float64"
      ]
     },
     "execution_count": 9,
     "metadata": {},
     "output_type": "execute_result"
    }
   ],
   "source": [
    "return_missing_values(df)"
   ]
  },
  {
   "cell_type": "code",
   "execution_count": 10,
   "metadata": {
    "execution": {
     "iopub.execute_input": "2020-08-10T17:23:56.545792Z",
     "iopub.status.busy": "2020-08-10T17:23:56.544945Z",
     "iopub.status.idle": "2020-08-10T17:23:56.780415Z",
     "shell.execute_reply": "2020-08-10T17:23:56.779709Z"
    },
    "papermill": {
     "duration": 0.341922,
     "end_time": "2020-08-10T17:23:56.780537",
     "exception": false,
     "start_time": "2020-08-10T17:23:56.438615",
     "status": "completed"
    },
    "tags": []
   },
   "outputs": [
    {
     "data": {
      "image/png": "[encoded data removed]",
      "text/plain": [
       "<Figure size 432x288 with 1 Axes>"
      ]
     },
     "metadata": {},
     "output_type": "display_data"
    }
   ],
   "source": [
    "plot_missing_values(df)"
   ]
  },
  {
   "cell_type": "code",
   "execution_count": 11,
   "metadata": {
    "execution": {
     "iopub.execute_input": "2020-08-10T17:23:56.942156Z",
     "iopub.status.busy": "2020-08-10T17:23:56.940965Z",
     "iopub.status.idle": "2020-08-10T17:23:58.630524Z",
     "shell.execute_reply": "2020-08-10T17:23:58.629767Z"
    },
    "papermill": {
     "duration": 1.794496,
     "end_time": "2020-08-10T17:23:58.630718",
     "exception": false,
     "start_time": "2020-08-10T17:23:56.836222",
     "status": "completed"
    },
    "tags": []
   },
   "outputs": [
    {
     "data": {
      "text/plain": [
       "<matplotlib.axes._subplots.AxesSubplot at 0x11307d89be0>"
      ]
     },
     "execution_count": 11,
     "metadata": {},
     "output_type": "execute_result"
    },
    {
     "data": {
      "image/png": "[encoded data removed]",
      "text/plain": [
       "<Figure size 432x288 with 2 Axes>"
      ]
     },
     "metadata": {},
     "output_type": "display_data"
    }
   ],
   "source": [
    "# heatmap representation of missing values\n",
    "\n",
    "sns.heatmap(df.isnull(), cbar=True, yticklabels=False, cmap='ocean')"
   ]
  },
  {
   "cell_type": "markdown",
   "metadata": {
    "papermill": {
     "duration": 0.025568,
     "end_time": "2020-08-10T17:23:58.681621",
     "exception": false,
     "start_time": "2020-08-10T17:23:58.656053",
     "status": "completed"
    },
    "tags": []
   },
   "source": [
    "## Plot Unique Values "
   ]
  },
  {
   "cell_type": "code",
   "execution_count": 12,
   "metadata": {
    "execution": {
     "iopub.execute_input": "2020-08-10T17:23:58.738330Z",
     "iopub.status.busy": "2020-08-10T17:23:58.737606Z",
     "iopub.status.idle": "2020-08-10T17:23:58.741312Z",
     "shell.execute_reply": "2020-08-10T17:23:58.741969Z"
    },
    "papermill": {
     "duration": 0.035654,
     "end_time": "2020-08-10T17:23:58.742126",
     "exception": false,
     "start_time": "2020-08-10T17:23:58.706472",
     "status": "completed"
    },
    "tags": []
   },
   "outputs": [],
   "source": [
    "def return_unique_values(data_frame):\n",
    "    unique_dataframe = pd.DataFrame()\n",
    "    unique_dataframe['Features'] = data_frame.columns\n",
    "    uniques = []\n",
    "    for col in data_frame.columns:\n",
    "        u = data_frame[col].nunique()\n",
    "        uniques.append(u)\n",
    "    unique_dataframe['Uniques'] = uniques\n",
    "    return unique_dataframe"
   ]
  },
  {
   "cell_type": "code",
   "execution_count": 13,
   "metadata": {
    "execution": {
     "iopub.execute_input": "2020-08-10T17:23:58.816846Z",
     "iopub.status.busy": "2020-08-10T17:23:58.815810Z",
     "iopub.status.idle": "2020-08-10T17:23:59.250414Z",
     "shell.execute_reply": "2020-08-10T17:23:59.251318Z"
    },
    "papermill": {
     "duration": 0.475151,
     "end_time": "2020-08-10T17:23:59.251494",
     "exception": false,
     "start_time": "2020-08-10T17:23:58.776343",
     "status": "completed"
    },
    "tags": []
   },
   "outputs": [
    {
     "name": "stdout",
     "output_type": "stream",
     "text": [
      "            Features  Uniques\n",
      "0          user_name    92276\n",
      "1      user_location    26920\n",
      "2   user_description    89200\n",
      "3       user_created    93708\n",
      "4     user_followers    27694\n",
      "5       user_friends    11022\n",
      "6    user_favourites    35259\n",
      "7      user_verified        2\n",
      "8               date   136611\n",
      "9               text   178683\n",
      "10          hashtags    52640\n",
      "11            source      610\n",
      "12        is_retweet        1\n"
     ]
    }
   ],
   "source": [
    "udf = return_unique_values(df)\n",
    "print(udf)"
   ]
  },
  {
   "cell_type": "code",
   "execution_count": 14,
   "metadata": {
    "execution": {
     "iopub.execute_input": "2020-08-10T17:23:59.307110Z",
     "iopub.status.busy": "2020-08-10T17:23:59.298108Z",
     "iopub.status.idle": "2020-08-10T17:23:59.639546Z",
     "shell.execute_reply": "2020-08-10T17:23:59.640089Z"
    },
    "papermill": {
     "duration": 0.369915,
     "end_time": "2020-08-10T17:23:59.640236",
     "exception": false,
     "start_time": "2020-08-10T17:23:59.270321",
     "status": "completed"
    },
    "tags": []
   },
   "outputs": [
    {
     "data": {
      "image/png": "[encoded data removed]",
      "text/plain": [
       "<Figure size 720x360 with 1 Axes>"
      ]
     },
     "metadata": {},
     "output_type": "display_data"
    }
   ],
   "source": [
    "f, ax = plt.subplots(1,1, figsize=(10,5))#plt.figure(figsize=(10, 5))\n",
    "\n",
    "sns.barplot(x=udf['Features'], y=udf['Uniques'], alpha=0.8)\n",
    "plt.title('Bar plot for #unique values in each column')\n",
    "plt.ylabel('#Unique values', fontsize=12)\n",
    "plt.xlabel('Features', fontsize=12)\n",
    "plt.xticks(rotation=90)\n",
    "plt.show()"
   ]
  },
  {
   "cell_type": "markdown",
   "metadata": {
    "papermill": {
     "duration": 0.023967,
     "end_time": "2020-08-10T17:23:59.685320",
     "exception": false,
     "start_time": "2020-08-10T17:23:59.661353",
     "status": "completed"
    },
    "tags": []
   },
   "source": [
    "## Frequency of users tweeting about Corona"
   ]
  },
  {
   "cell_type": "code",
   "execution_count": 15,
   "metadata": {
    "execution": {
     "iopub.execute_input": "2020-08-10T17:23:59.741490Z",
     "iopub.status.busy": "2020-08-10T17:23:59.739524Z",
     "iopub.status.idle": "2020-08-10T17:23:59.742678Z",
     "shell.execute_reply": "2020-08-10T17:23:59.743331Z"
    },
    "papermill": {
     "duration": 0.03706,
     "end_time": "2020-08-10T17:23:59.743505",
     "exception": false,
     "start_time": "2020-08-10T17:23:59.706445",
     "status": "completed"
    },
    "tags": []
   },
   "outputs": [],
   "source": [
    "def plot_frequency_charts(df, feature, title, pallete):\n",
    "    freq_df = pd.DataFrame()\n",
    "    freq_df[feature] = df[feature]\n",
    "    \n",
    "    f, ax = plt.subplots(1,1, figsize=(16,4))\n",
    "    total = float(len(df))\n",
    "    g = sns.countplot(df[feature], order = df[feature].value_counts().index[:20], palette=pallete)\n",
    "    g.set_title(\"Number and percentage of {}\".format(title))\n",
    "\n",
    "    for p in ax.patches:\n",
    "        height = p.get_height()\n",
    "        ax.text(p.get_x()+p.get_width()/2.,\n",
    "                height + 3,\n",
    "                '{:1.2f}%'.format(100*height/total),\n",
    "                ha=\"center\") \n",
    "\n",
    "    plt.title('Frequency of {} tweeting about Corona'.format(feature))\n",
    "    plt.ylabel('Frequency', fontsize=12)\n",
    "    plt.xlabel(title, fontsize=12)\n",
    "    plt.xticks(rotation=90)\n",
    "    plt.show()\n",
    "    "
   ]
  },
  {
   "cell_type": "code",
   "execution_count": 16,
   "metadata": {
    "execution": {
     "iopub.execute_input": "2020-08-10T17:23:59.792047Z",
     "iopub.status.busy": "2020-08-10T17:23:59.791331Z",
     "iopub.status.idle": "2020-08-10T17:24:00.552360Z",
     "shell.execute_reply": "2020-08-10T17:24:00.552897Z"
    },
    "papermill": {
     "duration": 0.787016,
     "end_time": "2020-08-10T17:24:00.553052",
     "exception": false,
     "start_time": "2020-08-10T17:23:59.766036",
     "status": "completed"
    },
    "tags": []
   },
   "outputs": [
    {
     "data": {
      "image/png": "[encoded data removed]",
      "text/plain": [
       "<Figure size 1152x288 with 1 Axes>"
      ]
     },
     "metadata": {},
     "output_type": "display_data"
    }
   ],
   "source": [
    "plot_frequency_charts(df, 'user_name', 'User Names','Wistia')"
   ]
  },
  {
   "cell_type": "markdown",
   "metadata": {
    "papermill": {
     "duration": 0.019397,
     "end_time": "2020-08-10T17:24:00.593322",
     "exception": false,
     "start_time": "2020-08-10T17:24:00.573925",
     "status": "completed"
    },
    "tags": []
   },
   "source": [
    "## Frequency of locations tweeting about Corona"
   ]
  },
  {
   "cell_type": "code",
   "execution_count": 17,
   "metadata": {
    "execution": {
     "iopub.execute_input": "2020-08-10T17:24:00.637482Z",
     "iopub.status.busy": "2020-08-10T17:24:00.636649Z",
     "iopub.status.idle": "2020-08-10T17:24:01.224119Z",
     "shell.execute_reply": "2020-08-10T17:24:01.224651Z"
    },
    "papermill": {
     "duration": 0.612405,
     "end_time": "2020-08-10T17:24:01.224800",
     "exception": false,
     "start_time": "2020-08-10T17:24:00.612395",
     "status": "completed"
    },
    "tags": []
   },
   "outputs": [
    {
     "data": {
      "image/png": "[encoded data removed]",
      "text/plain": [
       "<Figure size 1152x288 with 1 Axes>"
      ]
     },
     "metadata": {},
     "output_type": "display_data"
    }
   ],
   "source": [
    "plot_frequency_charts(df, 'user_location', 'User Locations', 'BuGn_r')"
   ]
  },
  {
   "cell_type": "markdown",
   "metadata": {
    "papermill": {
     "duration": 0.020661,
     "end_time": "2020-08-10T17:24:01.266200",
     "exception": false,
     "start_time": "2020-08-10T17:24:01.245539",
     "status": "completed"
    },
    "tags": []
   },
   "source": [
    "## Frequency of sources tweeting about Corona"
   ]
  },
  {
   "cell_type": "code",
   "execution_count": 18,
   "metadata": {
    "execution": {
     "iopub.execute_input": "2020-08-10T17:24:01.312944Z",
     "iopub.status.busy": "2020-08-10T17:24:01.312075Z",
     "iopub.status.idle": "2020-08-10T17:24:01.877537Z",
     "shell.execute_reply": "2020-08-10T17:24:01.878121Z"
    },
    "papermill": {
     "duration": 0.591054,
     "end_time": "2020-08-10T17:24:01.878299",
     "exception": false,
     "start_time": "2020-08-10T17:24:01.287245",
     "status": "completed"
    },
    "tags": []
   },
   "outputs": [
    {
     "data": {
      "image/png": "[encoded data removed]",
      "text/plain": [
       "<Figure size 1152x288 with 1 Axes>"
      ]
     },
     "metadata": {},
     "output_type": "display_data"
    }
   ],
   "source": [
    "plot_frequency_charts(df, 'source','Source', 'vlag')"
   ]
  },
  {
   "cell_type": "markdown",
   "metadata": {
    "papermill": {
     "duration": 0.020775,
     "end_time": "2020-08-10T17:24:01.923280",
     "exception": false,
     "start_time": "2020-08-10T17:24:01.902505",
     "status": "completed"
    },
    "tags": []
   },
   "source": [
    "## Visualizing top 30 words location wise"
   ]
  },
  {
   "cell_type": "code",
   "execution_count": 19,
   "metadata": {},
   "outputs": [
    {
     "name": "stderr",
     "output_type": "stream",
     "text": [
      "[nltk_data] Downloading package stopwords to\n",
      "[nltk_data]     C:\\Users\\Anirudh\\AppData\\Roaming\\nltk_data...\n",
      "[nltk_data]   Package stopwords is already up-to-date!\n"
     ]
    },
    {
     "data": {
      "text/plain": [
       "True"
      ]
     },
     "execution_count": 19,
     "metadata": {},
     "output_type": "execute_result"
    }
   ],
   "source": [
    "import nltk\n",
    "nltk.download('stopwords')"
   ]
  },
  {
   "cell_type": "code",
   "execution_count": 20,
   "metadata": {
    "execution": {
     "iopub.execute_input": "2020-08-10T17:24:01.974046Z",
     "iopub.status.busy": "2020-08-10T17:24:01.973351Z",
     "iopub.status.idle": "2020-08-10T17:24:02.780862Z",
     "shell.execute_reply": "2020-08-10T17:24:02.781430Z"
    },
    "papermill": {
     "duration": 0.837145,
     "end_time": "2020-08-10T17:24:02.781578",
     "exception": false,
     "start_time": "2020-08-10T17:24:01.944433",
     "status": "completed"
    },
    "tags": []
   },
   "outputs": [
    {
     "name": "stdout",
     "output_type": "stream",
     "text": [
      "[\"you've\", \"you'll\", \"you'd\", 'your', 'yours']\n"
     ]
    }
   ],
   "source": [
    "from string import punctuation\n",
    "from nltk.corpus import stopwords\n",
    "print(stopwords.words('english')[10:15])\n",
    "\n",
    "def punctuation_stopwords_removal(sms):\n",
    "    # filters charecter-by-charecter\n",
    "    remove_punctuation = [ch for ch in sms if ch not in punctuation]\n",
    "    # convert them back to sentences and split into words\n",
    "    remove_punctuation = \"\".join(remove_punctuation).split()\n",
    "    filtered_sms = [word.lower() for word in remove_punctuation if word.lower() not in stopwords.words('english')]\n",
    "    return filtered_sms"
   ]
  },
  {
   "cell_type": "code",
   "execution_count": 21,
   "metadata": {
    "execution": {
     "iopub.execute_input": "2020-08-10T17:24:02.849381Z",
     "iopub.status.busy": "2020-08-10T17:24:02.847917Z",
     "iopub.status.idle": "2020-08-10T17:24:02.852682Z",
     "shell.execute_reply": "2020-08-10T17:24:02.853204Z"
    },
    "papermill": {
     "duration": 0.050428,
     "end_time": "2020-08-10T17:24:02.853360",
     "exception": false,
     "start_time": "2020-08-10T17:24:02.802932",
     "status": "completed"
    },
    "tags": []
   },
   "outputs": [
    {
     "data": {
      "text/html": [
       "<div>\n",
       "<style scoped>\n",
       "    .dataframe tbody tr th:only-of-type {\n",
       "        vertical-align: middle;\n",
       "    }\n",
       "\n",
       "    .dataframe tbody tr th {\n",
       "        vertical-align: top;\n",
       "    }\n",
       "\n",
       "    .dataframe thead th {\n",
       "        text-align: right;\n",
       "    }\n",
       "</style>\n",
       "<table border=\"1\" class=\"dataframe\">\n",
       "  <thead>\n",
       "    <tr style=\"text-align: right;\">\n",
       "      <th></th>\n",
       "      <th>user_name</th>\n",
       "      <th>user_location</th>\n",
       "      <th>user_description</th>\n",
       "      <th>user_created</th>\n",
       "      <th>user_followers</th>\n",
       "      <th>user_friends</th>\n",
       "      <th>user_favourites</th>\n",
       "      <th>user_verified</th>\n",
       "      <th>date</th>\n",
       "      <th>text</th>\n",
       "      <th>hashtags</th>\n",
       "      <th>source</th>\n",
       "      <th>is_retweet</th>\n",
       "    </tr>\n",
       "  </thead>\n",
       "  <tbody>\n",
       "    <tr>\n",
       "      <th>0</th>\n",
       "      <td>ᏉᎥ☻լꂅϮ</td>\n",
       "      <td>astroworld</td>\n",
       "      <td>wednesday addams as a disney princess keepin i...</td>\n",
       "      <td>2017-05-26 05:46:42</td>\n",
       "      <td>624</td>\n",
       "      <td>950</td>\n",
       "      <td>18775</td>\n",
       "      <td>False</td>\n",
       "      <td>2020-07-25 12:27:21</td>\n",
       "      <td>If I smelled the scent of hand sanitizers toda...</td>\n",
       "      <td>NaN</td>\n",
       "      <td>Twitter for iPhone</td>\n",
       "      <td>False</td>\n",
       "    </tr>\n",
       "    <tr>\n",
       "      <th>1</th>\n",
       "      <td>Tom Basile 🇺🇸</td>\n",
       "      <td>New York, NY</td>\n",
       "      <td>Husband, Father, Columnist &amp; Commentator. Auth...</td>\n",
       "      <td>2009-04-16 20:06:23</td>\n",
       "      <td>2253</td>\n",
       "      <td>1677</td>\n",
       "      <td>24</td>\n",
       "      <td>True</td>\n",
       "      <td>2020-07-25 12:27:17</td>\n",
       "      <td>Hey @Yankees @YankeesPR and @MLB - wouldn't it...</td>\n",
       "      <td>NaN</td>\n",
       "      <td>Twitter for Android</td>\n",
       "      <td>False</td>\n",
       "    </tr>\n",
       "    <tr>\n",
       "      <th>2</th>\n",
       "      <td>Time4fisticuffs</td>\n",
       "      <td>Pewee Valley, KY</td>\n",
       "      <td>#Christian #Catholic #Conservative #Reagan #Re...</td>\n",
       "      <td>2009-02-28 18:57:41</td>\n",
       "      <td>9275</td>\n",
       "      <td>9525</td>\n",
       "      <td>7254</td>\n",
       "      <td>False</td>\n",
       "      <td>2020-07-25 12:27:14</td>\n",
       "      <td>@diane3443 @wdunlap @realDonaldTrump Trump nev...</td>\n",
       "      <td>['COVID19']</td>\n",
       "      <td>Twitter for Android</td>\n",
       "      <td>False</td>\n",
       "    </tr>\n",
       "    <tr>\n",
       "      <th>3</th>\n",
       "      <td>ethel mertz</td>\n",
       "      <td>Stuck in the Middle</td>\n",
       "      <td>#Browns #Indians #ClevelandProud #[]_[] #Cavs ...</td>\n",
       "      <td>2019-03-07 01:45:06</td>\n",
       "      <td>197</td>\n",
       "      <td>987</td>\n",
       "      <td>1488</td>\n",
       "      <td>False</td>\n",
       "      <td>2020-07-25 12:27:10</td>\n",
       "      <td>@brookbanktv The one gift #COVID19 has give me...</td>\n",
       "      <td>['COVID19']</td>\n",
       "      <td>Twitter for iPhone</td>\n",
       "      <td>False</td>\n",
       "    </tr>\n",
       "    <tr>\n",
       "      <th>4</th>\n",
       "      <td>DIPR-J&amp;K</td>\n",
       "      <td>Jammu and Kashmir</td>\n",
       "      <td>🖊️Official Twitter handle of Department of Inf...</td>\n",
       "      <td>2017-02-12 06:45:15</td>\n",
       "      <td>101009</td>\n",
       "      <td>168</td>\n",
       "      <td>101</td>\n",
       "      <td>False</td>\n",
       "      <td>2020-07-25 12:27:08</td>\n",
       "      <td>25 July : Media Bulletin on Novel #CoronaVirus...</td>\n",
       "      <td>['CoronaVirusUpdates', 'COVID19']</td>\n",
       "      <td>Twitter for Android</td>\n",
       "      <td>False</td>\n",
       "    </tr>\n",
       "  </tbody>\n",
       "</table>\n",
       "</div>"
      ],
      "text/plain": [
       "         user_name         user_location  \\\n",
       "0           ᏉᎥ☻լꂅϮ            astroworld   \n",
       "1    Tom Basile 🇺🇸          New York, NY   \n",
       "2  Time4fisticuffs      Pewee Valley, KY   \n",
       "3      ethel mertz  Stuck in the Middle    \n",
       "4         DIPR-J&K     Jammu and Kashmir   \n",
       "\n",
       "                                    user_description         user_created  \\\n",
       "0  wednesday addams as a disney princess keepin i...  2017-05-26 05:46:42   \n",
       "1  Husband, Father, Columnist & Commentator. Auth...  2009-04-16 20:06:23   \n",
       "2  #Christian #Catholic #Conservative #Reagan #Re...  2009-02-28 18:57:41   \n",
       "3  #Browns #Indians #ClevelandProud #[]_[] #Cavs ...  2019-03-07 01:45:06   \n",
       "4  🖊️Official Twitter handle of Department of Inf...  2017-02-12 06:45:15   \n",
       "\n",
       "   user_followers  user_friends  user_favourites  user_verified  \\\n",
       "0             624           950            18775          False   \n",
       "1            2253          1677               24           True   \n",
       "2            9275          9525             7254          False   \n",
       "3             197           987             1488          False   \n",
       "4          101009           168              101          False   \n",
       "\n",
       "                  date                                               text  \\\n",
       "0  2020-07-25 12:27:21  If I smelled the scent of hand sanitizers toda...   \n",
       "1  2020-07-25 12:27:17  Hey @Yankees @YankeesPR and @MLB - wouldn't it...   \n",
       "2  2020-07-25 12:27:14  @diane3443 @wdunlap @realDonaldTrump Trump nev...   \n",
       "3  2020-07-25 12:27:10  @brookbanktv The one gift #COVID19 has give me...   \n",
       "4  2020-07-25 12:27:08  25 July : Media Bulletin on Novel #CoronaVirus...   \n",
       "\n",
       "                            hashtags               source  is_retweet  \n",
       "0                                NaN   Twitter for iPhone       False  \n",
       "1                                NaN  Twitter for Android       False  \n",
       "2                        ['COVID19']  Twitter for Android       False  \n",
       "3                        ['COVID19']   Twitter for iPhone       False  \n",
       "4  ['CoronaVirusUpdates', 'COVID19']  Twitter for Android       False  "
      ]
     },
     "execution_count": 21,
     "metadata": {},
     "output_type": "execute_result"
    }
   ],
   "source": [
    "df.head()"
   ]
  },
  {
   "cell_type": "code",
   "execution_count": 22,
   "metadata": {
    "execution": {
     "iopub.execute_input": "2020-08-10T17:24:02.906732Z",
     "iopub.status.busy": "2020-08-10T17:24:02.906072Z",
     "iopub.status.idle": "2020-08-10T17:24:02.909687Z",
     "shell.execute_reply": "2020-08-10T17:24:02.909191Z"
    },
    "papermill": {
     "duration": 0.034241,
     "end_time": "2020-08-10T17:24:02.909784",
     "exception": false,
     "start_time": "2020-08-10T17:24:02.875543",
     "status": "completed"
    },
    "tags": []
   },
   "outputs": [],
   "source": [
    "from collections import Counter\n",
    "\n",
    "def draw_bar_graph_for_text_visualization(df, location):\n",
    "    tweets_from_loc = df.loc[df.user_location==location]\n",
    "    tweets_from_loc.loc[:, 'text'] = tweets_from_loc['text'].apply(punctuation_stopwords_removal)\n",
    "    loc_tweets_curated = tweets_from_loc['text'].tolist()\n",
    "    loc_tweet_list = []\n",
    "    for sublist in loc_tweets_curated:\n",
    "        for word in sublist:\n",
    "            loc_tweet_list.append(word)\n",
    "    loc_tweet_count = Counter(loc_tweet_list)\n",
    "    loc_top_30_words = pd.DataFrame(loc_tweet_count.most_common(50), columns=['word', 'count'])\n",
    "    fig, ax = plt.subplots(figsize=(16, 6))\n",
    "    sns.barplot(x='word', y='count', \n",
    "                data=loc_top_30_words, ax=ax)\n",
    "    plt.title(\"Top 50 Prevelant Words in {}\".format(location))\n",
    "    plt.xticks(rotation='vertical');\n",
    "    "
   ]
  },
  {
   "cell_type": "code",
   "execution_count": 23,
   "metadata": {},
   "outputs": [
    {
     "name": "stdout",
     "output_type": "stream",
     "text": [
      "Requirement already satisfied: wordcloud in c:\\users\\anirudh\\anaconda3\\lib\\site-packages (1.8.1)\n",
      "Requirement already satisfied: numpy>=1.6.1 in c:\\users\\anirudh\\anaconda3\\lib\\site-packages (from wordcloud) (1.18.1)\n",
      "Requirement already satisfied: pillow in c:\\users\\anirudh\\anaconda3\\lib\\site-packages (from wordcloud) (7.0.0)\n",
      "Requirement already satisfied: matplotlib in c:\\users\\anirudh\\anaconda3\\lib\\site-packages (from wordcloud) (3.0.2)\n",
      "Requirement already satisfied: cycler>=0.10 in c:\\users\\anirudh\\anaconda3\\lib\\site-packages (from matplotlib->wordcloud) (0.10.0)\n",
      "Requirement already satisfied: kiwisolver>=1.0.1 in c:\\users\\anirudh\\anaconda3\\lib\\site-packages (from matplotlib->wordcloud) (1.0.1)\n",
      "Requirement already satisfied: pyparsing!=2.0.4,!=2.1.2,!=2.1.6,>=2.0.1 in c:\\users\\anirudh\\anaconda3\\lib\\site-packages (from matplotlib->wordcloud) (2.4.6)\n",
      "Requirement already satisfied: python-dateutil>=2.1 in c:\\users\\anirudh\\anaconda3\\lib\\site-packages (from matplotlib->wordcloud) (2.8.1)\n",
      "Requirement already satisfied: six in c:\\users\\anirudh\\appdata\\roaming\\python\\python37\\site-packages (from cycler>=0.10->matplotlib->wordcloud) (1.12.0)\n",
      "Requirement already satisfied: setuptools in c:\\users\\anirudh\\anaconda3\\lib\\site-packages (from kiwisolver>=1.0.1->matplotlib->wordcloud) (46.1.3.post20200330)\n"
     ]
    }
   ],
   "source": [
    "!pip install wordcloud"
   ]
  },
  {
   "cell_type": "code",
   "execution_count": 24,
   "metadata": {
    "execution": {
     "iopub.execute_input": "2020-08-10T17:24:02.963176Z",
     "iopub.status.busy": "2020-08-10T17:24:02.962211Z",
     "iopub.status.idle": "2020-08-10T17:24:03.045934Z",
     "shell.execute_reply": "2020-08-10T17:24:03.045268Z"
    },
    "papermill": {
     "duration": 0.114509,
     "end_time": "2020-08-10T17:24:03.046071",
     "exception": false,
     "start_time": "2020-08-10T17:24:02.931562",
     "status": "completed"
    },
    "tags": []
   },
   "outputs": [],
   "source": [
    "from wordcloud import WordCloud, STOPWORDS\n",
    "\n",
    "\n",
    "\n",
    "def draw_word_cloud(df, location, title):\n",
    "    loc_df = df.loc[df.user_location==location]\n",
    "    loc_df.loc[:, 'text'] = loc_df['text'].apply(punctuation_stopwords_removal)\n",
    "    word_cloud = WordCloud(\n",
    "                    background_color='white',\n",
    "                    stopwords=set(STOPWORDS),\n",
    "                    max_words=50,\n",
    "                    max_font_size=40,\n",
    "                    scale=5,\n",
    "                    random_state=1).generate(str(loc_df['text']))\n",
    "    fig = plt.figure(1, figsize=(10,10))\n",
    "    plt.axis('off')\n",
    "    fig.suptitle(title, fontsize=20)\n",
    "    fig.subplots_adjust(top=2.3)\n",
    "    plt.imshow(word_cloud)\n",
    "    plt.show()\n",
    "    "
   ]
  },
  {
   "cell_type": "code",
   "execution_count": 25,
   "metadata": {
    "execution": {
     "iopub.execute_input": "2020-08-10T17:24:03.114538Z",
     "iopub.status.busy": "2020-08-10T17:24:03.113616Z",
     "iopub.status.idle": "2020-08-10T17:24:09.119228Z",
     "shell.execute_reply": "2020-08-10T17:24:09.118216Z"
    },
    "papermill": {
     "duration": 6.048904,
     "end_time": "2020-08-10T17:24:09.119396",
     "exception": false,
     "start_time": "2020-08-10T17:24:03.070492",
     "status": "completed"
    },
    "tags": []
   },
   "outputs": [
    {
     "name": "stderr",
     "output_type": "stream",
     "text": [
      "C:\\Users\\Anirudh\\Anaconda3\\lib\\site-packages\\pandas\\core\\indexing.py:966: SettingWithCopyWarning: \n",
      "A value is trying to be set on a copy of a slice from a DataFrame.\n",
      "Try using .loc[row_indexer,col_indexer] = value instead\n",
      "\n",
      "See the caveats in the documentation: https://pandas.pydata.org/pandas-docs/stable/user_guide/indexing.html#returning-a-view-versus-a-copy\n",
      "  self.obj[item] = s\n"
     ]
    },
    {
     "data": {
      "image/png": "[encoded data removed]",
      "text/plain": [
       "<Figure size 1152x432 with 1 Axes>"
      ]
     },
     "metadata": {},
     "output_type": "display_data"
    }
   ],
   "source": [
    "draw_bar_graph_for_text_visualization(df, 'India')"
   ]
  },
  {
   "cell_type": "code",
   "execution_count": 26,
   "metadata": {
    "execution": {
     "iopub.execute_input": "2020-08-10T17:24:09.216572Z",
     "iopub.status.busy": "2020-08-10T17:24:09.215550Z",
     "iopub.status.idle": "2020-08-10T17:24:15.341736Z",
     "shell.execute_reply": "2020-08-10T17:24:15.342278Z"
    },
    "papermill": {
     "duration": 6.189202,
     "end_time": "2020-08-10T17:24:15.342422",
     "exception": false,
     "start_time": "2020-08-10T17:24:09.153220",
     "status": "completed"
    },
    "tags": []
   },
   "outputs": [
    {
     "data": {
      "image/png": "[encoded data removed]",
      "text/plain": [
       "<Figure size 720x720 with 1 Axes>"
      ]
     },
     "metadata": {},
     "output_type": "display_data"
    }
   ],
   "source": [
    "draw_word_cloud(df, 'India', 'Word Cloud for top 50 prevelant words in India')"
   ]
  },
  {
   "cell_type": "code",
   "execution_count": 28,
   "metadata": {
    "execution": {
     "iopub.execute_input": "2020-08-10T17:24:15.411460Z",
     "iopub.status.busy": "2020-08-10T17:24:15.410507Z",
     "iopub.status.idle": "2020-08-10T17:24:17.997560Z",
     "shell.execute_reply": "2020-08-10T17:24:17.996957Z"
    },
    "papermill": {
     "duration": 2.629327,
     "end_time": "2020-08-10T17:24:17.997688",
     "exception": false,
     "start_time": "2020-08-10T17:24:15.368361",
     "status": "completed"
    },
    "tags": []
   },
   "outputs": [
    {
     "data": {
      "image/png": "[encoded data removed]",
      "text/plain": [
       "<Figure size 1152x432 with 1 Axes>"
      ]
     },
     "metadata": {},
     "output_type": "display_data"
    }
   ],
   "source": [
    "draw_bar_graph_for_text_visualization(df, 'United Kingdom')"
   ]
  },
  {
   "cell_type": "code",
   "execution_count": 71,
   "metadata": {
    "execution": {
     "iopub.execute_input": "2020-08-10T17:24:18.076821Z",
     "iopub.status.busy": "2020-08-10T17:24:18.075740Z",
     "iopub.status.idle": "2020-08-10T17:24:20.467042Z",
     "shell.execute_reply": "2020-08-10T17:24:20.469643Z"
    },
    "papermill": {
     "duration": 2.442253,
     "end_time": "2020-08-10T17:24:20.469905",
     "exception": false,
     "start_time": "2020-08-10T17:24:18.027652",
     "status": "completed"
    },
    "tags": []
   },
   "outputs": [
    {
     "data": {
      "image/png": "[encoded data removed]",
      "text/plain": [
       "<Figure size 720x720 with 1 Axes>"
      ]
     },
     "metadata": {},
     "output_type": "display_data"
    }
   ],
   "source": [
    "draw_word_cloud(df, 'United Kingdom', 'Word Cloud for top 50 prevelant words in United Kingdom')"
   ]
  },
  {
   "cell_type": "markdown",
   "metadata": {
    "papermill": {
     "duration": 0.036012,
     "end_time": "2020-08-10T17:24:37.935878",
     "exception": false,
     "start_time": "2020-08-10T17:24:37.899866",
     "status": "completed"
    },
    "tags": []
   },
   "source": [
    "# Sentiment Analysis on Covid19 Tweets\n",
    "\n",
    "For this part of the notebook I will be using [Covid 19 Indian Sentiments on covid19 and lockdown](https://www.kaggle.com/surajkum1198/twitterdata) dataset."
   ]
  },
  {
   "cell_type": "code",
   "execution_count": 25,
   "metadata": {
    "execution": {
     "iopub.execute_input": "2020-08-10T17:24:38.121557Z",
     "iopub.status.busy": "2020-08-10T17:24:38.120605Z",
     "iopub.status.idle": "2020-08-10T17:24:38.139349Z",
     "shell.execute_reply": "2020-08-10T17:24:38.140622Z"
    },
    "papermill": {
     "duration": 0.095601,
     "end_time": "2020-08-10T17:24:38.140852",
     "exception": false,
     "start_time": "2020-08-10T17:24:38.045251",
     "status": "completed"
    },
    "tags": []
   },
   "outputs": [],
   "source": [
    "sentiment_df = pd.read_csv('finalSentimentdata2.csv')"
   ]
  },
  {
   "cell_type": "code",
   "execution_count": 26,
   "metadata": {
    "execution": {
     "iopub.execute_input": "2020-08-10T17:24:38.280922Z",
     "iopub.status.busy": "2020-08-10T17:24:38.280048Z",
     "iopub.status.idle": "2020-08-10T17:24:38.286871Z",
     "shell.execute_reply": "2020-08-10T17:24:38.287610Z"
    },
    "papermill": {
     "duration": 0.084868,
     "end_time": "2020-08-10T17:24:38.287802",
     "exception": false,
     "start_time": "2020-08-10T17:24:38.202934",
     "status": "completed"
    },
    "tags": []
   },
   "outputs": [
    {
     "data": {
      "text/html": [
       "<div>\n",
       "<style scoped>\n",
       "    .dataframe tbody tr th:only-of-type {\n",
       "        vertical-align: middle;\n",
       "    }\n",
       "\n",
       "    .dataframe tbody tr th {\n",
       "        vertical-align: top;\n",
       "    }\n",
       "\n",
       "    .dataframe thead th {\n",
       "        text-align: right;\n",
       "    }\n",
       "</style>\n",
       "<table border=\"1\" class=\"dataframe\">\n",
       "  <thead>\n",
       "    <tr style=\"text-align: right;\">\n",
       "      <th></th>\n",
       "      <th>Unnamed: 0</th>\n",
       "      <th>sentiment</th>\n",
       "      <th>text</th>\n",
       "    </tr>\n",
       "  </thead>\n",
       "  <tbody>\n",
       "    <tr>\n",
       "      <th>0</th>\n",
       "      <td>3204</td>\n",
       "      <td>sad</td>\n",
       "      <td>agree the poor in india are treated badly thei...</td>\n",
       "    </tr>\n",
       "    <tr>\n",
       "      <th>1</th>\n",
       "      <td>1431</td>\n",
       "      <td>joy</td>\n",
       "      <td>if only i could have spent the with this cutie...</td>\n",
       "    </tr>\n",
       "    <tr>\n",
       "      <th>2</th>\n",
       "      <td>654</td>\n",
       "      <td>joy</td>\n",
       "      <td>will nature conservation remain a priority in ...</td>\n",
       "    </tr>\n",
       "    <tr>\n",
       "      <th>3</th>\n",
       "      <td>2530</td>\n",
       "      <td>sad</td>\n",
       "      <td>coronavirus disappearing in italy show this to...</td>\n",
       "    </tr>\n",
       "    <tr>\n",
       "      <th>4</th>\n",
       "      <td>2296</td>\n",
       "      <td>sad</td>\n",
       "      <td>uk records lowest daily virus death toll since...</td>\n",
       "    </tr>\n",
       "  </tbody>\n",
       "</table>\n",
       "</div>"
      ],
      "text/plain": [
       "   Unnamed: 0 sentiment                                               text\n",
       "0        3204       sad  agree the poor in india are treated badly thei...\n",
       "1        1431       joy  if only i could have spent the with this cutie...\n",
       "2         654       joy  will nature conservation remain a priority in ...\n",
       "3        2530       sad  coronavirus disappearing in italy show this to...\n",
       "4        2296       sad  uk records lowest daily virus death toll since..."
      ]
     },
     "execution_count": 26,
     "metadata": {},
     "output_type": "execute_result"
    }
   ],
   "source": [
    "sentiment_df.head()"
   ]
  },
  {
   "cell_type": "code",
   "execution_count": 27,
   "metadata": {
    "execution": {
     "iopub.execute_input": "2020-08-10T17:24:38.409999Z",
     "iopub.status.busy": "2020-08-10T17:24:38.409035Z",
     "iopub.status.idle": "2020-08-10T17:24:38.416800Z",
     "shell.execute_reply": "2020-08-10T17:24:38.417514Z"
    },
    "papermill": {
     "duration": 0.071071,
     "end_time": "2020-08-10T17:24:38.417694",
     "exception": false,
     "start_time": "2020-08-10T17:24:38.346623",
     "status": "completed"
    },
    "tags": []
   },
   "outputs": [
    {
     "data": {
      "text/plain": [
       "Index(['Unnamed: 0', 'sentiment', 'text'], dtype='object')"
      ]
     },
     "execution_count": 27,
     "metadata": {},
     "output_type": "execute_result"
    }
   ],
   "source": [
    "sentiment_df.columns"
   ]
  },
  {
   "cell_type": "code",
   "execution_count": 28,
   "metadata": {
    "execution": {
     "iopub.execute_input": "2020-08-10T17:24:38.507785Z",
     "iopub.status.busy": "2020-08-10T17:24:38.506948Z",
     "iopub.status.idle": "2020-08-10T17:24:38.510683Z",
     "shell.execute_reply": "2020-08-10T17:24:38.511189Z"
    },
    "papermill": {
     "duration": 0.049634,
     "end_time": "2020-08-10T17:24:38.511319",
     "exception": false,
     "start_time": "2020-08-10T17:24:38.461685",
     "status": "completed"
    },
    "tags": []
   },
   "outputs": [
    {
     "data": {
      "text/plain": [
       "<bound method IndexOpsMixin.nunique of 0         sad\n",
       "1         joy\n",
       "2         joy\n",
       "3         sad\n",
       "4         sad\n",
       "        ...  \n",
       "3085      sad\n",
       "3086    anger\n",
       "3087      joy\n",
       "3088      sad\n",
       "3089      sad\n",
       "Name: sentiment, Length: 3090, dtype: object>"
      ]
     },
     "execution_count": 28,
     "metadata": {},
     "output_type": "execute_result"
    }
   ],
   "source": [
    "sentiment_df['sentiment'].nunique"
   ]
  },
  {
   "cell_type": "code",
   "execution_count": 29,
   "metadata": {
    "execution": {
     "iopub.execute_input": "2020-08-10T17:24:38.593229Z",
     "iopub.status.busy": "2020-08-10T17:24:38.592051Z",
     "iopub.status.idle": "2020-08-10T17:24:49.894045Z",
     "shell.execute_reply": "2020-08-10T17:24:49.894642Z"
    },
    "papermill": {
     "duration": 11.345753,
     "end_time": "2020-08-10T17:24:49.894807",
     "exception": false,
     "start_time": "2020-08-10T17:24:38.549054",
     "status": "completed"
    },
    "tags": []
   },
   "outputs": [],
   "source": [
    "sentiment_df.loc[:, 'text'] = sentiment_df['text'].apply(punctuation_stopwords_removal)"
   ]
  },
  {
   "cell_type": "code",
   "execution_count": 30,
   "metadata": {},
   "outputs": [
    {
     "data": {
      "text/html": [
       "<div>\n",
       "<style scoped>\n",
       "    .dataframe tbody tr th:only-of-type {\n",
       "        vertical-align: middle;\n",
       "    }\n",
       "\n",
       "    .dataframe tbody tr th {\n",
       "        vertical-align: top;\n",
       "    }\n",
       "\n",
       "    .dataframe thead th {\n",
       "        text-align: right;\n",
       "    }\n",
       "</style>\n",
       "<table border=\"1\" class=\"dataframe\">\n",
       "  <thead>\n",
       "    <tr style=\"text-align: right;\">\n",
       "      <th></th>\n",
       "      <th>Unnamed: 0</th>\n",
       "      <th>sentiment</th>\n",
       "      <th>text</th>\n",
       "    </tr>\n",
       "  </thead>\n",
       "  <tbody>\n",
       "    <tr>\n",
       "      <th>0</th>\n",
       "      <td>3204</td>\n",
       "      <td>sad</td>\n",
       "      <td>[agree, poor, india, treated, badly, poors, se...</td>\n",
       "    </tr>\n",
       "    <tr>\n",
       "      <th>1</th>\n",
       "      <td>1431</td>\n",
       "      <td>joy</td>\n",
       "      <td>[could, spent, cutie, vc, sakshis, n, g, h, co...</td>\n",
       "    </tr>\n",
       "    <tr>\n",
       "      <th>2</th>\n",
       "      <td>654</td>\n",
       "      <td>joy</td>\n",
       "      <td>[nature, conservation, remain, priority, post,...</td>\n",
       "    </tr>\n",
       "    <tr>\n",
       "      <th>3</th>\n",
       "      <td>2530</td>\n",
       "      <td>sad</td>\n",
       "      <td>[coronavirus, disappearing, italy, show, intel...</td>\n",
       "    </tr>\n",
       "    <tr>\n",
       "      <th>4</th>\n",
       "      <td>2296</td>\n",
       "      <td>sad</td>\n",
       "      <td>[uk, records, lowest, daily, virus, death, tol...</td>\n",
       "    </tr>\n",
       "    <tr>\n",
       "      <th>...</th>\n",
       "      <td>...</td>\n",
       "      <td>...</td>\n",
       "      <td>...</td>\n",
       "    </tr>\n",
       "    <tr>\n",
       "      <th>3085</th>\n",
       "      <td>2579</td>\n",
       "      <td>sad</td>\n",
       "      <td>[today, 02, 30pm, 54, year, old, bangladeshi, ...</td>\n",
       "    </tr>\n",
       "    <tr>\n",
       "      <th>3086</th>\n",
       "      <td>3579</td>\n",
       "      <td>anger</td>\n",
       "      <td>[corona, virus, implore, cease, activity, apri...</td>\n",
       "    </tr>\n",
       "    <tr>\n",
       "      <th>3087</th>\n",
       "      <td>221</td>\n",
       "      <td>joy</td>\n",
       "      <td>[issa, date, lockdown, ends, inshaallah, coron...</td>\n",
       "    </tr>\n",
       "    <tr>\n",
       "      <th>3088</th>\n",
       "      <td>2705</td>\n",
       "      <td>sad</td>\n",
       "      <td>[death, toll, due, covid, 19, rose, 31, jammu,...</td>\n",
       "    </tr>\n",
       "    <tr>\n",
       "      <th>3089</th>\n",
       "      <td>2962</td>\n",
       "      <td>sad</td>\n",
       "      <td>[rates, become, barrier, poor, people, think, ...</td>\n",
       "    </tr>\n",
       "  </tbody>\n",
       "</table>\n",
       "<p>3090 rows × 3 columns</p>\n",
       "</div>"
      ],
      "text/plain": [
       "      Unnamed: 0 sentiment                                               text\n",
       "0           3204       sad  [agree, poor, india, treated, badly, poors, se...\n",
       "1           1431       joy  [could, spent, cutie, vc, sakshis, n, g, h, co...\n",
       "2            654       joy  [nature, conservation, remain, priority, post,...\n",
       "3           2530       sad  [coronavirus, disappearing, italy, show, intel...\n",
       "4           2296       sad  [uk, records, lowest, daily, virus, death, tol...\n",
       "...          ...       ...                                                ...\n",
       "3085        2579       sad  [today, 02, 30pm, 54, year, old, bangladeshi, ...\n",
       "3086        3579     anger  [corona, virus, implore, cease, activity, apri...\n",
       "3087         221       joy  [issa, date, lockdown, ends, inshaallah, coron...\n",
       "3088        2705       sad  [death, toll, due, covid, 19, rose, 31, jammu,...\n",
       "3089        2962       sad  [rates, become, barrier, poor, people, think, ...\n",
       "\n",
       "[3090 rows x 3 columns]"
      ]
     },
     "execution_count": 30,
     "metadata": {},
     "output_type": "execute_result"
    }
   ],
   "source": [
    "sentiment_df"
   ]
  },
  {
   "cell_type": "code",
   "execution_count": 34,
   "metadata": {
    "execution": {
     "iopub.execute_input": "2020-08-10T17:24:50.043694Z",
     "iopub.status.busy": "2020-08-10T17:24:50.038644Z",
     "iopub.status.idle": "2020-08-10T17:24:50.380876Z",
     "shell.execute_reply": "2020-08-10T17:24:50.380289Z"
    },
    "papermill": {
     "duration": 0.423263,
     "end_time": "2020-08-10T17:24:50.381016",
     "exception": false,
     "start_time": "2020-08-10T17:24:49.957753",
     "status": "completed"
    },
    "tags": []
   },
   "outputs": [],
   "source": [
    "reviews_split = []\n",
    "for i, j in sentiment_df.iterrows():\n",
    "    reviews_split.append(j['text'])\n"
   ]
  },
  {
   "cell_type": "code",
   "execution_count": 35,
   "metadata": {
    "execution": {
     "iopub.execute_input": "2020-08-10T17:24:50.472431Z",
     "iopub.status.busy": "2020-08-10T17:24:50.470482Z",
     "iopub.status.idle": "2020-08-10T17:24:50.475802Z",
     "shell.execute_reply": "2020-08-10T17:24:50.475290Z"
    },
    "papermill": {
     "duration": 0.056074,
     "end_time": "2020-08-10T17:24:50.475923",
     "exception": false,
     "start_time": "2020-08-10T17:24:50.419849",
     "status": "completed"
    },
    "tags": []
   },
   "outputs": [],
   "source": [
    "words = []\n",
    "for review in reviews_split:\n",
    "    for word in review:\n",
    "        words.append(word)\n"
   ]
  },
  {
   "cell_type": "code",
   "execution_count": 36,
   "metadata": {
    "execution": {
     "iopub.execute_input": "2020-08-10T17:24:50.555410Z",
     "iopub.status.busy": "2020-08-10T17:24:50.554641Z",
     "iopub.status.idle": "2020-08-10T17:24:50.558525Z",
     "shell.execute_reply": "2020-08-10T17:24:50.559002Z"
    },
    "papermill": {
     "duration": 0.045968,
     "end_time": "2020-08-10T17:24:50.559130",
     "exception": false,
     "start_time": "2020-08-10T17:24:50.513162",
     "status": "completed"
    },
    "scrolled": true,
    "tags": []
   },
   "outputs": [
    {
     "name": "stdout",
     "output_type": "stream",
     "text": [
      "['agree', 'poor', 'india', 'treated', 'badly', 'poors', 'seek', 'living', 'singapore', 'treated', 'like', 'citizens', 'given', 'free', 'medical', 'treatment', 'given', 'food', 'daily', 'sim']\n"
     ]
    }
   ],
   "source": [
    "print(words[:20])"
   ]
  },
  {
   "cell_type": "markdown",
   "metadata": {
    "papermill": {
     "duration": 0.03664,
     "end_time": "2020-08-10T17:24:50.633407",
     "exception": false,
     "start_time": "2020-08-10T17:24:50.596767",
     "status": "completed"
    },
    "tags": []
   },
   "source": [
    "## Encoding Tweets\n"
   ]
  },
  {
   "cell_type": "markdown",
   "metadata": {},
   "source": [
    "Count the frequency of each word\n",
    "Sort the words on the basis of their occurence in the descending order"
   ]
  },
  {
   "cell_type": "code",
   "execution_count": 37,
   "metadata": {
    "execution": {
     "iopub.execute_input": "2020-08-10T17:24:50.725479Z",
     "iopub.status.busy": "2020-08-10T17:24:50.724689Z",
     "iopub.status.idle": "2020-08-10T17:24:50.728235Z",
     "shell.execute_reply": "2020-08-10T17:24:50.728674Z"
    },
    "papermill": {
     "duration": 0.057689,
     "end_time": "2020-08-10T17:24:50.728807",
     "exception": false,
     "start_time": "2020-08-10T17:24:50.671118",
     "status": "completed"
    },
    "tags": []
   },
   "outputs": [
    {
     "data": {
      "text/plain": [
       "'8000\\n1\\n2\\n3\\n4\\n'"
      ]
     },
     "execution_count": 37,
     "metadata": {},
     "output_type": "execute_result"
    }
   ],
   "source": [
    "from collections import Counter\n",
    "\n",
    "counts = Counter(words)\n",
    "\n",
    "vocab = sorted(counts, key=counts.get, reverse=True)\n",
    "\n",
    "vocab_to_int = {word:ii for ii, word in enumerate(vocab, 1)}\n",
    "\n"
   ]
  },
  {
   "cell_type": "code",
   "execution_count": 38,
   "metadata": {},
   "outputs": [
    {
     "data": {
      "text/plain": [
       "['coronavirus',\n",
       " 'corona',\n",
       " 'covid',\n",
       " 'lockdown',\n",
       " '19',\n",
       " 'people',\n",
       " '…',\n",
       " 'virus',\n",
       " 'twitter',\n",
       " 'us',\n",
       " 'pic',\n",
       " 'get',\n",
       " 'due',\n",
       " 'time',\n",
       " 'like',\n",
       " 'going',\n",
       " 'one',\n",
       " 'world',\n",
       " 'im',\n",
       " 'india',\n",
       " 'govt',\n",
       " 'please',\n",
       " 'home',\n",
       " 'day',\n",
       " 'trump',\n",
       " 'cases',\n",
       " 'need',\n",
       " 'pandemic',\n",
       " 'go',\n",
       " 'new',\n",
       " 'would',\n",
       " 'stay',\n",
       " 'good',\n",
       " 'think',\n",
       " 'days',\n",
       " 'help',\n",
       " 'sir',\n",
       " '1',\n",
       " 'death',\n",
       " 'take',\n",
       " 'also',\n",
       " 'government',\n",
       " '2',\n",
       " 'stop',\n",
       " 'crisis',\n",
       " 'u',\n",
       " 'work',\n",
       " 'via',\n",
       " 'covid19',\n",
       " 'many',\n",
       " 'spread',\n",
       " 'still',\n",
       " 'today',\n",
       " 'health',\n",
       " 'country',\n",
       " 'cannot',\n",
       " 'everyone',\n",
       " 'family',\n",
       " 'fight',\n",
       " 'got',\n",
       " '–',\n",
       " 'even',\n",
       " 'see',\n",
       " 'news',\n",
       " 'away',\n",
       " 'much',\n",
       " 'know',\n",
       " 'last',\n",
       " 'shit',\n",
       " 'year',\n",
       " '3',\n",
       " 'life',\n",
       " 'want',\n",
       " 'let',\n",
       " 'back',\n",
       " 'flu',\n",
       " 'thing',\n",
       " 'may',\n",
       " 'bad',\n",
       " 'could',\n",
       " 'panic',\n",
       " 'deaths',\n",
       " 'really',\n",
       " 'way',\n",
       " 'china',\n",
       " 'n',\n",
       " 'first',\n",
       " 'right',\n",
       " 'safe',\n",
       " 'great',\n",
       " 'situation',\n",
       " 'die',\n",
       " 'since',\n",
       " 'come',\n",
       " 'keep',\n",
       " 'media',\n",
       " 'said',\n",
       " 'fear',\n",
       " 'every',\n",
       " 'lives',\n",
       " '5',\n",
       " 'best',\n",
       " 'make',\n",
       " 'better',\n",
       " 'hospital',\n",
       " 'god',\n",
       " 'state',\n",
       " 'infected',\n",
       " 'spreading',\n",
       " 'outbreak',\n",
       " 'suffering',\n",
       " 'well',\n",
       " 'months',\n",
       " 'pm',\n",
       " 'around',\n",
       " 'fuck',\n",
       " '2020',\n",
       " 'patients',\n",
       " 'wajid',\n",
       " 'social',\n",
       " 'sick',\n",
       " 'food',\n",
       " 'give',\n",
       " 'r',\n",
       " 'without',\n",
       " 'two',\n",
       " 'nothing',\n",
       " 'hope',\n",
       " 'say',\n",
       " 'thanks',\n",
       " 'care',\n",
       " 'indian',\n",
       " 'old',\n",
       " '4',\n",
       " 'made',\n",
       " 'says',\n",
       " 'music',\n",
       " 'job',\n",
       " 'foldedhands',\n",
       " 'call',\n",
       " 'something',\n",
       " 'concerns',\n",
       " 'school',\n",
       " 'ー19',\n",
       " 'public',\n",
       " 'look',\n",
       " 'chinese',\n",
       " 'positive',\n",
       " 'times',\n",
       " 'live',\n",
       " 'already',\n",
       " 'fucking',\n",
       " 'economy',\n",
       " 'control',\n",
       " 'love',\n",
       " 'everything',\n",
       " 'president',\n",
       " 'delhi',\n",
       " 'shut',\n",
       " 'april',\n",
       " 'whole',\n",
       " 'feel',\n",
       " 'making',\n",
       " 'thank',\n",
       " 'called',\n",
       " 'test',\n",
       " 'free',\n",
       " 'daily',\n",
       " 'italy',\n",
       " 'saying',\n",
       " 'till',\n",
       " 'pakistan',\n",
       " 'kill',\n",
       " 'next',\n",
       " 'taking',\n",
       " 'seriously',\n",
       " 'worst',\n",
       " 'man',\n",
       " 'save',\n",
       " 'dangerous',\n",
       " 'getting',\n",
       " 'serious',\n",
       " 'money',\n",
       " 'quarantine',\n",
       " 'video',\n",
       " 'poor',\n",
       " 'done',\n",
       " 'trying',\n",
       " 'ppl',\n",
       " 'week',\n",
       " 'working',\n",
       " 'worse',\n",
       " 'another',\n",
       " 'coming',\n",
       " 'case',\n",
       " '10',\n",
       " 'ur',\n",
       " 'must',\n",
       " 'yes',\n",
       " 'fighting',\n",
       " '”',\n",
       " 'cause',\n",
       " 'ive',\n",
       " 'ji',\n",
       " 'patient',\n",
       " 'global',\n",
       " 'worried',\n",
       " 'testing',\n",
       " 'long',\n",
       " 'threat',\n",
       " 'minister',\n",
       " 'amid',\n",
       " 'distancing',\n",
       " 'workers',\n",
       " 'real',\n",
       " 'follow',\n",
       " 'doctor',\n",
       " 'citizens',\n",
       " 'toll',\n",
       " 'tested',\n",
       " 'weeks',\n",
       " 'modi',\n",
       " 'use',\n",
       " 'together',\n",
       " '100',\n",
       " 'open',\n",
       " 'lost',\n",
       " 'pay',\n",
       " '0',\n",
       " 'understand',\n",
       " 'response',\n",
       " 'morning',\n",
       " 'students',\n",
       " 'watch',\n",
       " 'died',\n",
       " 'number',\n",
       " 'end',\n",
       " 'americans',\n",
       " 'nation',\n",
       " 'khan',\n",
       " 'rest',\n",
       " 'order',\n",
       " 'started',\n",
       " 'self',\n",
       " 'point',\n",
       " 'disease',\n",
       " 'far',\n",
       " 'passed',\n",
       " 'peace',\n",
       " 'never',\n",
       " 'lock',\n",
       " 'place',\n",
       " 'medical',\n",
       " 'march',\n",
       " 'put',\n",
       " 'hit',\n",
       " 'fake',\n",
       " 'hoax',\n",
       " 'hands',\n",
       " 'states',\n",
       " 'closed',\n",
       " 'things',\n",
       " 'war',\n",
       " 'tell',\n",
       " 'post',\n",
       " 'show',\n",
       " 'rate',\n",
       " 'doctors',\n",
       " 'house',\n",
       " 'happy',\n",
       " 'support',\n",
       " 'might',\n",
       " 'police',\n",
       " 'hospitals',\n",
       " 'month',\n",
       " 'countries',\n",
       " 'worry',\n",
       " 'allah',\n",
       " 'america',\n",
       " 'others',\n",
       " 'become',\n",
       " 'close',\n",
       " 'travel',\n",
       " 'financial',\n",
       " 'private',\n",
       " 'told',\n",
       " 'lot',\n",
       " 'someone',\n",
       " 'mind',\n",
       " 'break',\n",
       " 'yet',\n",
       " 'kids',\n",
       " 'instead',\n",
       " 'fears',\n",
       " 'sajid',\n",
       " 'bill',\n",
       " 'anyone',\n",
       " 'online',\n",
       " 'issue',\n",
       " 'hours',\n",
       " 'soon',\n",
       " 'using',\n",
       " 'relief',\n",
       " 'uk',\n",
       " 'loudlycryingface',\n",
       " 'heart',\n",
       " 'business',\n",
       " 'hard',\n",
       " 'biggest',\n",
       " 'important',\n",
       " 'bring',\n",
       " 'action',\n",
       " 'city',\n",
       " 'reason',\n",
       " 'tests',\n",
       " 'million',\n",
       " 'staff',\n",
       " 'entire',\n",
       " 'years',\n",
       " 'stupid',\n",
       " 'dying',\n",
       " 'hate',\n",
       " 'age',\n",
       " 'least',\n",
       " 'giving',\n",
       " 'damn',\n",
       " 'prevent',\n",
       " 'sad',\n",
       " 'hai',\n",
       " 'composer',\n",
       " 'friends',\n",
       " 'find',\n",
       " 'body',\n",
       " 'ill',\n",
       " 'wrong',\n",
       " 'system',\n",
       " 'given',\n",
       " 'pls',\n",
       " 'top',\n",
       " 'person',\n",
       " 'healthy',\n",
       " 'face',\n",
       " 'across',\n",
       " 'schools',\n",
       " 'duo',\n",
       " 'dead',\n",
       " 'pray',\n",
       " 'anything',\n",
       " 'problem',\n",
       " 'proud',\n",
       " 'small',\n",
       " 'measures',\n",
       " 'guys',\n",
       " 'needs',\n",
       " 'start',\n",
       " 'goes',\n",
       " 'ago',\n",
       " 'community',\n",
       " 'talking',\n",
       " 'chief',\n",
       " 'current',\n",
       " 'part',\n",
       " '7',\n",
       " 'song',\n",
       " 'hell',\n",
       " 'hand',\n",
       " 'meet',\n",
       " 'night',\n",
       " 'big',\n",
       " 'economic',\n",
       " 'fact',\n",
       " 'ready',\n",
       " 'despite',\n",
       " 'redheart',\n",
       " '00',\n",
       " 'period',\n",
       " '20',\n",
       " '80',\n",
       " 'notice',\n",
       " 'enough',\n",
       " 'muslims',\n",
       " 'read',\n",
       " 'confirmed',\n",
       " 'leave',\n",
       " 'facewithtearsofjoy',\n",
       " '6',\n",
       " 'used',\n",
       " 'mumbai',\n",
       " 'possible',\n",
       " '19india',\n",
       " 'special',\n",
       " '30',\n",
       " 'emergency',\n",
       " 'name',\n",
       " 'american',\n",
       " 'jobs',\n",
       " 'officials',\n",
       " 'high',\n",
       " 'ass',\n",
       " 'responsible',\n",
       " 'little',\n",
       " 'infection',\n",
       " 'racist',\n",
       " 'beautiful',\n",
       " 'cure',\n",
       " 'visit',\n",
       " 'living',\n",
       " 'share',\n",
       " '8',\n",
       " 'risk',\n",
       " 'less',\n",
       " 'dont',\n",
       " 'democrats',\n",
       " 'affected',\n",
       " 'concerned',\n",
       " 'cancelled',\n",
       " 'shame',\n",
       " 'novel',\n",
       " 'safety',\n",
       " 'human',\n",
       " 'complete',\n",
       " 'b',\n",
       " 'wait',\n",
       " 'dear',\n",
       " 'force',\n",
       " 'late',\n",
       " 'different',\n",
       " 'decision',\n",
       " 'believe',\n",
       " 'administration',\n",
       " '000',\n",
       " 'local',\n",
       " 'probably',\n",
       " 'wants',\n",
       " 'game',\n",
       " 'team',\n",
       " 'society',\n",
       " 'act',\n",
       " 'symptoms',\n",
       " 'cm',\n",
       " 'national',\n",
       " 'seen',\n",
       " 'mad',\n",
       " 'oh',\n",
       " 'fever',\n",
       " 'try',\n",
       " 'sure',\n",
       " 'words',\n",
       " 'gets',\n",
       " 'miss',\n",
       " 'early',\n",
       " 'air',\n",
       " 'head',\n",
       " 'rather',\n",
       " 'always',\n",
       " 'negative',\n",
       " 'else',\n",
       " 'taken',\n",
       " 'caused',\n",
       " 'came',\n",
       " 'found',\n",
       " 'treatment',\n",
       " 'population',\n",
       " 'completely',\n",
       " 'among',\n",
       " '15',\n",
       " 'protect',\n",
       " 'comes',\n",
       " 'line',\n",
       " 'failed',\n",
       " 'facing',\n",
       " 'thought',\n",
       " 'continue',\n",
       " 'change',\n",
       " 'politics',\n",
       " 'bollywood',\n",
       " 'office',\n",
       " 'ask',\n",
       " 'happen',\n",
       " '42',\n",
       " 'thinking',\n",
       " 'left',\n",
       " 'common',\n",
       " 'difficult',\n",
       " 'sign',\n",
       " 'white',\n",
       " 'scary',\n",
       " 'epidemic',\n",
       " 'able',\n",
       " 'learn',\n",
       " 'kind',\n",
       " '•',\n",
       " '\\u2066\\u2069',\n",
       " 'paper',\n",
       " 'simple',\n",
       " 'wish',\n",
       " 'mass',\n",
       " 'telling',\n",
       " 'killing',\n",
       " 'official',\n",
       " 'idiots',\n",
       " 'looking',\n",
       " 'scared',\n",
       " 'ends',\n",
       " 'blood',\n",
       " 'makes',\n",
       " 'took',\n",
       " 'thousands',\n",
       " 'dies',\n",
       " 'future',\n",
       " 'mask',\n",
       " 'buy',\n",
       " 'though',\n",
       " 'ever',\n",
       " 'set',\n",
       " 'single',\n",
       " 'full',\n",
       " 'ones',\n",
       " 'impact',\n",
       " 'masks',\n",
       " 'ban',\n",
       " 'dr',\n",
       " 'middle',\n",
       " 'w',\n",
       " 'check',\n",
       " 'attack',\n",
       " 'etc',\n",
       " 'means',\n",
       " 'guess',\n",
       " 'district',\n",
       " 'app',\n",
       " 'plan',\n",
       " 'win',\n",
       " 'avoid',\n",
       " 'trumps',\n",
       " 'e',\n",
       " 'mr',\n",
       " 'vaccine',\n",
       " 'running',\n",
       " 'season',\n",
       " 'pain',\n",
       " 'following',\n",
       " 'nature',\n",
       " 'maybe',\n",
       " 'birthday',\n",
       " 'families',\n",
       " 'party',\n",
       " 'hysteria',\n",
       " 'members',\n",
       " 'tonight',\n",
       " 'stores',\n",
       " 'vulnerable',\n",
       " 'deadly',\n",
       " 'children',\n",
       " 'blame',\n",
       " 'migrants',\n",
       " 'second',\n",
       " 'missing',\n",
       " 'account',\n",
       " 'actually',\n",
       " 'stock',\n",
       " 'ahead',\n",
       " 'director',\n",
       " 'wash',\n",
       " 'congress',\n",
       " 'joke',\n",
       " 'afraid',\n",
       " 'market',\n",
       " 'feeling',\n",
       " 'muslim',\n",
       " 'focus',\n",
       " 'area',\n",
       " 'passes',\n",
       " 'waiting',\n",
       " 'low',\n",
       " 'concern',\n",
       " '9',\n",
       " 'calls',\n",
       " 'within',\n",
       " 'service',\n",
       " 'kindly',\n",
       " 'warning',\n",
       " 'hear',\n",
       " 'numbers',\n",
       " 'data',\n",
       " 'lack',\n",
       " 'monday',\n",
       " 'literally',\n",
       " 'total',\n",
       " 'term',\n",
       " 'bhai',\n",
       " 'power',\n",
       " 'truth',\n",
       " 'conspiracy',\n",
       " 'town',\n",
       " 'matter',\n",
       " 'toilet',\n",
       " 'soul',\n",
       " 'available',\n",
       " 'event',\n",
       " 'businesses',\n",
       " 'finally',\n",
       " 'later',\n",
       " 'needed',\n",
       " 'leaders',\n",
       " 'article',\n",
       " 'prime',\n",
       " 'chance',\n",
       " 'busy',\n",
       " 'scare',\n",
       " 'course',\n",
       " '—',\n",
       " 'tried',\n",
       " 'youtube',\n",
       " 'past',\n",
       " 'leader',\n",
       " 'anxiety',\n",
       " 'bihar',\n",
       " 'nobody',\n",
       " 'deal',\n",
       " 'jai',\n",
       " 'humanity',\n",
       " 'catch',\n",
       " 'de',\n",
       " 'calling',\n",
       " 'effect',\n",
       " 'created',\n",
       " 'problems',\n",
       " 'bjp',\n",
       " 'young',\n",
       " 'enjoy',\n",
       " 'tomorrow',\n",
       " '24',\n",
       " 'cough',\n",
       " 'rip',\n",
       " 'join',\n",
       " 'lying',\n",
       " 'child',\n",
       " 'gone',\n",
       " 'imagine',\n",
       " 'woman',\n",
       " 'amazing',\n",
       " 'supply',\n",
       " 'link',\n",
       " 'reported',\n",
       " 'lose',\n",
       " '40',\n",
       " 'class',\n",
       " 'passing',\n",
       " 'history',\n",
       " 'sindh',\n",
       " 'front',\n",
       " 'solution',\n",
       " 'helping',\n",
       " 'exposed',\n",
       " 'level',\n",
       " 'result',\n",
       " 'moment',\n",
       " 'combat',\n",
       " 'tv',\n",
       " 'cares',\n",
       " 'mean',\n",
       " '43',\n",
       " 'forward',\n",
       " 'announced',\n",
       " 'al',\n",
       " 'slow',\n",
       " 'bc',\n",
       " 'potential',\n",
       " 'loss',\n",
       " 'fun',\n",
       " 'super',\n",
       " 'hey',\n",
       " 'lol',\n",
       " 'losing',\n",
       " 'true',\n",
       " 'paid',\n",
       " 'donald',\n",
       " 'danger',\n",
       " 'including',\n",
       " 'lied',\n",
       " 'v',\n",
       " 'related',\n",
       " 'wuhan',\n",
       " 'group',\n",
       " 'offer',\n",
       " 'warns',\n",
       " 'results',\n",
       " 'towards',\n",
       " 'idea',\n",
       " 'ok',\n",
       " 'june',\n",
       " 'step',\n",
       " '1st',\n",
       " 'source',\n",
       " 'went',\n",
       " 'loved',\n",
       " 'happening',\n",
       " 'unable',\n",
       " 'jk',\n",
       " 'three',\n",
       " 'heavyminussign',\n",
       " 'attention',\n",
       " 'humans',\n",
       " 'idiot',\n",
       " 'trust',\n",
       " 'listen',\n",
       " 'father',\n",
       " 'along',\n",
       " 'ridiculous',\n",
       " '14',\n",
       " 'asymptomatic',\n",
       " 'watching',\n",
       " 'cancel',\n",
       " 'remember',\n",
       " 'road',\n",
       " 'hurt',\n",
       " 'move',\n",
       " 'cnn',\n",
       " 'question',\n",
       " 'plz',\n",
       " 'gives',\n",
       " 'buying',\n",
       " 'touch',\n",
       " 'fr',\n",
       " 'homes',\n",
       " '25',\n",
       " 'request',\n",
       " 'dumb',\n",
       " 'purpose',\n",
       " 'asked',\n",
       " 'prayers',\n",
       " '…pic',\n",
       " 'tweet',\n",
       " 'mother',\n",
       " '18',\n",
       " 'experts',\n",
       " 'governments',\n",
       " 'provide',\n",
       " 'turn',\n",
       " 'migrant',\n",
       " 'likely',\n",
       " 'major',\n",
       " 'shutdown',\n",
       " 'medicine',\n",
       " 'united',\n",
       " 'return',\n",
       " 'play',\n",
       " 'mental',\n",
       " 'immediately',\n",
       " 'update',\n",
       " 'report',\n",
       " 'classes',\n",
       " 'water',\n",
       " 'warriors',\n",
       " 'deep',\n",
       " 'cost',\n",
       " 'critical',\n",
       " 'cryingface',\n",
       " 'kashmir',\n",
       " 'appreciate',\n",
       " 'shows',\n",
       " 'ways',\n",
       " 'moving',\n",
       " 'fine',\n",
       " 'mortality',\n",
       " 'highest',\n",
       " 'destroy',\n",
       " 'according',\n",
       " '50',\n",
       " 'usa',\n",
       " 'celebrated',\n",
       " 'trip',\n",
       " 'issues',\n",
       " 'senior',\n",
       " 'son',\n",
       " 'panicking',\n",
       " 'rise',\n",
       " 'increased',\n",
       " 'severe',\n",
       " 'especially',\n",
       " 'comment',\n",
       " 'employees',\n",
       " 'bunch',\n",
       " 'dude',\n",
       " 'zero',\n",
       " 'tough',\n",
       " 'dems',\n",
       " 'strong',\n",
       " 'informed',\n",
       " 'college',\n",
       " 'recovered',\n",
       " 'security',\n",
       " 'seems',\n",
       " 'cant',\n",
       " 'word',\n",
       " 'beds',\n",
       " 'parents',\n",
       " 'red',\n",
       " 'room',\n",
       " 'easy',\n",
       " 'staying',\n",
       " 'anyway',\n",
       " 'list',\n",
       " 'effective',\n",
       " 'federal',\n",
       " 'nice',\n",
       " 'google',\n",
       " 'maharashtra',\n",
       " 'ebola',\n",
       " 'locked',\n",
       " 'happened',\n",
       " 'starting',\n",
       " 'folks',\n",
       " 'however',\n",
       " 'attacks',\n",
       " 'advice',\n",
       " 'stranded',\n",
       " 'stress',\n",
       " 'jammu',\n",
       " 'johnson',\n",
       " 'either',\n",
       " 'amidst',\n",
       " 'international',\n",
       " 'playing',\n",
       " 'latest',\n",
       " 'videos',\n",
       " 'huge',\n",
       " 'boost',\n",
       " 'immune',\n",
       " 'immunity',\n",
       " 'bless',\n",
       " 'north',\n",
       " 'takes',\n",
       " 'blessed',\n",
       " 'rose',\n",
       " 'closing',\n",
       " 'lots',\n",
       " 'plans',\n",
       " 'excellent',\n",
       " 'whatever',\n",
       " 'everyday',\n",
       " 'rules',\n",
       " 'millions',\n",
       " 'blaming',\n",
       " 'shop',\n",
       " 'healthcare',\n",
       " 'inside',\n",
       " 'salute',\n",
       " 'keeping',\n",
       " 'updates',\n",
       " 'quality',\n",
       " 'agree',\n",
       " 'g',\n",
       " 'id',\n",
       " '13',\n",
       " 'handle',\n",
       " 'rid',\n",
       " 'brought',\n",
       " 'irresponsible',\n",
       " '60',\n",
       " '12',\n",
       " 'asking',\n",
       " 'heres',\n",
       " 'planning',\n",
       " 'cut',\n",
       " 'brothers',\n",
       " 'followers',\n",
       " 'treat',\n",
       " 'popular',\n",
       " 'bbc',\n",
       " 'hour',\n",
       " 'isolation',\n",
       " 'style',\n",
       " 'key',\n",
       " 'per',\n",
       " 'bed',\n",
       " 'peoples',\n",
       " 'cold',\n",
       " 'handling',\n",
       " 'opportunity',\n",
       " 'view',\n",
       " 'sense',\n",
       " 'deserve',\n",
       " 'stimulus',\n",
       " 'regarding',\n",
       " 'flight',\n",
       " 'increase',\n",
       " 'fast',\n",
       " 'works',\n",
       " 'stuck',\n",
       " 'shri',\n",
       " 'outside',\n",
       " 'political',\n",
       " 'russia',\n",
       " 'breaking',\n",
       " 'conference',\n",
       " 'voice',\n",
       " 'calm',\n",
       " 'misinformation',\n",
       " 'failure',\n",
       " 'rt',\n",
       " 'hindu',\n",
       " 'causing',\n",
       " 'precautions',\n",
       " 'based',\n",
       " 'markets',\n",
       " 'odisha',\n",
       " 'type',\n",
       " 'creating',\n",
       " 'condition',\n",
       " 'friday',\n",
       " 'demand',\n",
       " 'strategy',\n",
       " 'fees',\n",
       " 'series',\n",
       " 'europe',\n",
       " 'heard',\n",
       " 'election',\n",
       " 'survive',\n",
       " 'absolutely',\n",
       " 'circumstances',\n",
       " 'mom',\n",
       " 'short',\n",
       " 'aiims',\n",
       " 'rent',\n",
       " 'borders',\n",
       " 'summer',\n",
       " 'yr',\n",
       " 'tired',\n",
       " 'streets',\n",
       " 'wearing',\n",
       " 'killed',\n",
       " 'contagion',\n",
       " 'hotel',\n",
       " 'block',\n",
       " '21',\n",
       " 'warn',\n",
       " 'reading',\n",
       " 'diamondsuit',\n",
       " 'nagar',\n",
       " 'bro',\n",
       " 'unfortunately',\n",
       " 'book',\n",
       " 'putting',\n",
       " 'remain',\n",
       " 'respected',\n",
       " 'teachers',\n",
       " 'smart',\n",
       " 'thinks',\n",
       " 'shortage',\n",
       " 'general',\n",
       " 'responsibility',\n",
       " 'ease',\n",
       " 'pass',\n",
       " 'side',\n",
       " 'recession',\n",
       " 'hunger',\n",
       " 'extend',\n",
       " 'teach',\n",
       " 'third',\n",
       " 'bank',\n",
       " 'network',\n",
       " 'welcome',\n",
       " '31',\n",
       " 'normal',\n",
       " 'gym',\n",
       " 'seem',\n",
       " 'policy',\n",
       " 'walking',\n",
       " 'tips',\n",
       " 'remove',\n",
       " 'letting',\n",
       " '400',\n",
       " 'earth',\n",
       " 'guy',\n",
       " 'areas',\n",
       " 'defeat',\n",
       " 'respect',\n",
       " 'warned',\n",
       " 'acting',\n",
       " 'contact',\n",
       " 'helped',\n",
       " 'washing',\n",
       " 'knew',\n",
       " 'consider',\n",
       " 'light',\n",
       " 'events',\n",
       " 'send',\n",
       " 'pretty',\n",
       " 'p',\n",
       " 'story',\n",
       " 'gave',\n",
       " 'direct',\n",
       " 'kidney',\n",
       " 'initiative',\n",
       " 'hv',\n",
       " 'park',\n",
       " 'personal',\n",
       " 'movie',\n",
       " ...]"
      ]
     },
     "execution_count": 38,
     "metadata": {},
     "output_type": "execute_result"
    }
   ],
   "source": [
    "vocab"
   ]
  },
  {
   "cell_type": "code",
   "execution_count": 39,
   "metadata": {},
   "outputs": [
    {
     "data": {
      "text/plain": [
       "{'coronavirus': 1,\n",
       " 'corona': 2,\n",
       " 'covid': 3,\n",
       " 'lockdown': 4,\n",
       " '19': 5,\n",
       " 'people': 6,\n",
       " '…': 7,\n",
       " 'virus': 8,\n",
       " 'twitter': 9,\n",
       " 'us': 10,\n",
       " 'pic': 11,\n",
       " 'get': 12,\n",
       " 'due': 13,\n",
       " 'time': 14,\n",
       " 'like': 15,\n",
       " 'going': 16,\n",
       " 'one': 17,\n",
       " 'world': 18,\n",
       " 'im': 19,\n",
       " 'india': 20,\n",
       " 'govt': 21,\n",
       " 'please': 22,\n",
       " 'home': 23,\n",
       " 'day': 24,\n",
       " 'trump': 25,\n",
       " 'cases': 26,\n",
       " 'need': 27,\n",
       " 'pandemic': 28,\n",
       " 'go': 29,\n",
       " 'new': 30,\n",
       " 'would': 31,\n",
       " 'stay': 32,\n",
       " 'good': 33,\n",
       " 'think': 34,\n",
       " 'days': 35,\n",
       " 'help': 36,\n",
       " 'sir': 37,\n",
       " '1': 38,\n",
       " 'death': 39,\n",
       " 'take': 40,\n",
       " 'also': 41,\n",
       " 'government': 42,\n",
       " '2': 43,\n",
       " 'stop': 44,\n",
       " 'crisis': 45,\n",
       " 'u': 46,\n",
       " 'work': 47,\n",
       " 'via': 48,\n",
       " 'covid19': 49,\n",
       " 'many': 50,\n",
       " 'spread': 51,\n",
       " 'still': 52,\n",
       " 'today': 53,\n",
       " 'health': 54,\n",
       " 'country': 55,\n",
       " 'cannot': 56,\n",
       " 'everyone': 57,\n",
       " 'family': 58,\n",
       " 'fight': 59,\n",
       " 'got': 60,\n",
       " '–': 61,\n",
       " 'even': 62,\n",
       " 'see': 63,\n",
       " 'news': 64,\n",
       " 'away': 65,\n",
       " 'much': 66,\n",
       " 'know': 67,\n",
       " 'last': 68,\n",
       " 'shit': 69,\n",
       " 'year': 70,\n",
       " '3': 71,\n",
       " 'life': 72,\n",
       " 'want': 73,\n",
       " 'let': 74,\n",
       " 'back': 75,\n",
       " 'flu': 76,\n",
       " 'thing': 77,\n",
       " 'may': 78,\n",
       " 'bad': 79,\n",
       " 'could': 80,\n",
       " 'panic': 81,\n",
       " 'deaths': 82,\n",
       " 'really': 83,\n",
       " 'way': 84,\n",
       " 'china': 85,\n",
       " 'n': 86,\n",
       " 'first': 87,\n",
       " 'right': 88,\n",
       " 'safe': 89,\n",
       " 'great': 90,\n",
       " 'situation': 91,\n",
       " 'die': 92,\n",
       " 'since': 93,\n",
       " 'come': 94,\n",
       " 'keep': 95,\n",
       " 'media': 96,\n",
       " 'said': 97,\n",
       " 'fear': 98,\n",
       " 'every': 99,\n",
       " 'lives': 100,\n",
       " '5': 101,\n",
       " 'best': 102,\n",
       " 'make': 103,\n",
       " 'better': 104,\n",
       " 'hospital': 105,\n",
       " 'god': 106,\n",
       " 'state': 107,\n",
       " 'infected': 108,\n",
       " 'spreading': 109,\n",
       " 'outbreak': 110,\n",
       " 'suffering': 111,\n",
       " 'well': 112,\n",
       " 'months': 113,\n",
       " 'pm': 114,\n",
       " 'around': 115,\n",
       " 'fuck': 116,\n",
       " '2020': 117,\n",
       " 'patients': 118,\n",
       " 'wajid': 119,\n",
       " 'social': 120,\n",
       " 'sick': 121,\n",
       " 'food': 122,\n",
       " 'give': 123,\n",
       " 'r': 124,\n",
       " 'without': 125,\n",
       " 'two': 126,\n",
       " 'nothing': 127,\n",
       " 'hope': 128,\n",
       " 'say': 129,\n",
       " 'thanks': 130,\n",
       " 'care': 131,\n",
       " 'indian': 132,\n",
       " 'old': 133,\n",
       " '4': 134,\n",
       " 'made': 135,\n",
       " 'says': 136,\n",
       " 'music': 137,\n",
       " 'job': 138,\n",
       " 'foldedhands': 139,\n",
       " 'call': 140,\n",
       " 'something': 141,\n",
       " 'concerns': 142,\n",
       " 'school': 143,\n",
       " 'ー19': 144,\n",
       " 'public': 145,\n",
       " 'look': 146,\n",
       " 'chinese': 147,\n",
       " 'positive': 148,\n",
       " 'times': 149,\n",
       " 'live': 150,\n",
       " 'already': 151,\n",
       " 'fucking': 152,\n",
       " 'economy': 153,\n",
       " 'control': 154,\n",
       " 'love': 155,\n",
       " 'everything': 156,\n",
       " 'president': 157,\n",
       " 'delhi': 158,\n",
       " 'shut': 159,\n",
       " 'april': 160,\n",
       " 'whole': 161,\n",
       " 'feel': 162,\n",
       " 'making': 163,\n",
       " 'thank': 164,\n",
       " 'called': 165,\n",
       " 'test': 166,\n",
       " 'free': 167,\n",
       " 'daily': 168,\n",
       " 'italy': 169,\n",
       " 'saying': 170,\n",
       " 'till': 171,\n",
       " 'pakistan': 172,\n",
       " 'kill': 173,\n",
       " 'next': 174,\n",
       " 'taking': 175,\n",
       " 'seriously': 176,\n",
       " 'worst': 177,\n",
       " 'man': 178,\n",
       " 'save': 179,\n",
       " 'dangerous': 180,\n",
       " 'getting': 181,\n",
       " 'serious': 182,\n",
       " 'money': 183,\n",
       " 'quarantine': 184,\n",
       " 'video': 185,\n",
       " 'poor': 186,\n",
       " 'done': 187,\n",
       " 'trying': 188,\n",
       " 'ppl': 189,\n",
       " 'week': 190,\n",
       " 'working': 191,\n",
       " 'worse': 192,\n",
       " 'another': 193,\n",
       " 'coming': 194,\n",
       " 'case': 195,\n",
       " '10': 196,\n",
       " 'ur': 197,\n",
       " 'must': 198,\n",
       " 'yes': 199,\n",
       " 'fighting': 200,\n",
       " '”': 201,\n",
       " 'cause': 202,\n",
       " 'ive': 203,\n",
       " 'ji': 204,\n",
       " 'patient': 205,\n",
       " 'global': 206,\n",
       " 'worried': 207,\n",
       " 'testing': 208,\n",
       " 'long': 209,\n",
       " 'threat': 210,\n",
       " 'minister': 211,\n",
       " 'amid': 212,\n",
       " 'distancing': 213,\n",
       " 'workers': 214,\n",
       " 'real': 215,\n",
       " 'follow': 216,\n",
       " 'doctor': 217,\n",
       " 'citizens': 218,\n",
       " 'toll': 219,\n",
       " 'tested': 220,\n",
       " 'weeks': 221,\n",
       " 'modi': 222,\n",
       " 'use': 223,\n",
       " 'together': 224,\n",
       " '100': 225,\n",
       " 'open': 226,\n",
       " 'lost': 227,\n",
       " 'pay': 228,\n",
       " '0': 229,\n",
       " 'understand': 230,\n",
       " 'response': 231,\n",
       " 'morning': 232,\n",
       " 'students': 233,\n",
       " 'watch': 234,\n",
       " 'died': 235,\n",
       " 'number': 236,\n",
       " 'end': 237,\n",
       " 'americans': 238,\n",
       " 'nation': 239,\n",
       " 'khan': 240,\n",
       " 'rest': 241,\n",
       " 'order': 242,\n",
       " 'started': 243,\n",
       " 'self': 244,\n",
       " 'point': 245,\n",
       " 'disease': 246,\n",
       " 'far': 247,\n",
       " 'passed': 248,\n",
       " 'peace': 249,\n",
       " 'never': 250,\n",
       " 'lock': 251,\n",
       " 'place': 252,\n",
       " 'medical': 253,\n",
       " 'march': 254,\n",
       " 'put': 255,\n",
       " 'hit': 256,\n",
       " 'fake': 257,\n",
       " 'hoax': 258,\n",
       " 'hands': 259,\n",
       " 'states': 260,\n",
       " 'closed': 261,\n",
       " 'things': 262,\n",
       " 'war': 263,\n",
       " 'tell': 264,\n",
       " 'post': 265,\n",
       " 'show': 266,\n",
       " 'rate': 267,\n",
       " 'doctors': 268,\n",
       " 'house': 269,\n",
       " 'happy': 270,\n",
       " 'support': 271,\n",
       " 'might': 272,\n",
       " 'police': 273,\n",
       " 'hospitals': 274,\n",
       " 'month': 275,\n",
       " 'countries': 276,\n",
       " 'worry': 277,\n",
       " 'allah': 278,\n",
       " 'america': 279,\n",
       " 'others': 280,\n",
       " 'become': 281,\n",
       " 'close': 282,\n",
       " 'travel': 283,\n",
       " 'financial': 284,\n",
       " 'private': 285,\n",
       " 'told': 286,\n",
       " 'lot': 287,\n",
       " 'someone': 288,\n",
       " 'mind': 289,\n",
       " 'break': 290,\n",
       " 'yet': 291,\n",
       " 'kids': 292,\n",
       " 'instead': 293,\n",
       " 'fears': 294,\n",
       " 'sajid': 295,\n",
       " 'bill': 296,\n",
       " 'anyone': 297,\n",
       " 'online': 298,\n",
       " 'issue': 299,\n",
       " 'hours': 300,\n",
       " 'soon': 301,\n",
       " 'using': 302,\n",
       " 'relief': 303,\n",
       " 'uk': 304,\n",
       " 'loudlycryingface': 305,\n",
       " 'heart': 306,\n",
       " 'business': 307,\n",
       " 'hard': 308,\n",
       " 'biggest': 309,\n",
       " 'important': 310,\n",
       " 'bring': 311,\n",
       " 'action': 312,\n",
       " 'city': 313,\n",
       " 'reason': 314,\n",
       " 'tests': 315,\n",
       " 'million': 316,\n",
       " 'staff': 317,\n",
       " 'entire': 318,\n",
       " 'years': 319,\n",
       " 'stupid': 320,\n",
       " 'dying': 321,\n",
       " 'hate': 322,\n",
       " 'age': 323,\n",
       " 'least': 324,\n",
       " 'giving': 325,\n",
       " 'damn': 326,\n",
       " 'prevent': 327,\n",
       " 'sad': 328,\n",
       " 'hai': 329,\n",
       " 'composer': 330,\n",
       " 'friends': 331,\n",
       " 'find': 332,\n",
       " 'body': 333,\n",
       " 'ill': 334,\n",
       " 'wrong': 335,\n",
       " 'system': 336,\n",
       " 'given': 337,\n",
       " 'pls': 338,\n",
       " 'top': 339,\n",
       " 'person': 340,\n",
       " 'healthy': 341,\n",
       " 'face': 342,\n",
       " 'across': 343,\n",
       " 'schools': 344,\n",
       " 'duo': 345,\n",
       " 'dead': 346,\n",
       " 'pray': 347,\n",
       " 'anything': 348,\n",
       " 'problem': 349,\n",
       " 'proud': 350,\n",
       " 'small': 351,\n",
       " 'measures': 352,\n",
       " 'guys': 353,\n",
       " 'needs': 354,\n",
       " 'start': 355,\n",
       " 'goes': 356,\n",
       " 'ago': 357,\n",
       " 'community': 358,\n",
       " 'talking': 359,\n",
       " 'chief': 360,\n",
       " 'current': 361,\n",
       " 'part': 362,\n",
       " '7': 363,\n",
       " 'song': 364,\n",
       " 'hell': 365,\n",
       " 'hand': 366,\n",
       " 'meet': 367,\n",
       " 'night': 368,\n",
       " 'big': 369,\n",
       " 'economic': 370,\n",
       " 'fact': 371,\n",
       " 'ready': 372,\n",
       " 'despite': 373,\n",
       " 'redheart': 374,\n",
       " '00': 375,\n",
       " 'period': 376,\n",
       " '20': 377,\n",
       " '80': 378,\n",
       " 'notice': 379,\n",
       " 'enough': 380,\n",
       " 'muslims': 381,\n",
       " 'read': 382,\n",
       " 'confirmed': 383,\n",
       " 'leave': 384,\n",
       " 'facewithtearsofjoy': 385,\n",
       " '6': 386,\n",
       " 'used': 387,\n",
       " 'mumbai': 388,\n",
       " 'possible': 389,\n",
       " '19india': 390,\n",
       " 'special': 391,\n",
       " '30': 392,\n",
       " 'emergency': 393,\n",
       " 'name': 394,\n",
       " 'american': 395,\n",
       " 'jobs': 396,\n",
       " 'officials': 397,\n",
       " 'high': 398,\n",
       " 'ass': 399,\n",
       " 'responsible': 400,\n",
       " 'little': 401,\n",
       " 'infection': 402,\n",
       " 'racist': 403,\n",
       " 'beautiful': 404,\n",
       " 'cure': 405,\n",
       " 'visit': 406,\n",
       " 'living': 407,\n",
       " 'share': 408,\n",
       " '8': 409,\n",
       " 'risk': 410,\n",
       " 'less': 411,\n",
       " 'dont': 412,\n",
       " 'democrats': 413,\n",
       " 'affected': 414,\n",
       " 'concerned': 415,\n",
       " 'cancelled': 416,\n",
       " 'shame': 417,\n",
       " 'novel': 418,\n",
       " 'safety': 419,\n",
       " 'human': 420,\n",
       " 'complete': 421,\n",
       " 'b': 422,\n",
       " 'wait': 423,\n",
       " 'dear': 424,\n",
       " 'force': 425,\n",
       " 'late': 426,\n",
       " 'different': 427,\n",
       " 'decision': 428,\n",
       " 'believe': 429,\n",
       " 'administration': 430,\n",
       " '000': 431,\n",
       " 'local': 432,\n",
       " 'probably': 433,\n",
       " 'wants': 434,\n",
       " 'game': 435,\n",
       " 'team': 436,\n",
       " 'society': 437,\n",
       " 'act': 438,\n",
       " 'symptoms': 439,\n",
       " 'cm': 440,\n",
       " 'national': 441,\n",
       " 'seen': 442,\n",
       " 'mad': 443,\n",
       " 'oh': 444,\n",
       " 'fever': 445,\n",
       " 'try': 446,\n",
       " 'sure': 447,\n",
       " 'words': 448,\n",
       " 'gets': 449,\n",
       " 'miss': 450,\n",
       " 'early': 451,\n",
       " 'air': 452,\n",
       " 'head': 453,\n",
       " 'rather': 454,\n",
       " 'always': 455,\n",
       " 'negative': 456,\n",
       " 'else': 457,\n",
       " 'taken': 458,\n",
       " 'caused': 459,\n",
       " 'came': 460,\n",
       " 'found': 461,\n",
       " 'treatment': 462,\n",
       " 'population': 463,\n",
       " 'completely': 464,\n",
       " 'among': 465,\n",
       " '15': 466,\n",
       " 'protect': 467,\n",
       " 'comes': 468,\n",
       " 'line': 469,\n",
       " 'failed': 470,\n",
       " 'facing': 471,\n",
       " 'thought': 472,\n",
       " 'continue': 473,\n",
       " 'change': 474,\n",
       " 'politics': 475,\n",
       " 'bollywood': 476,\n",
       " 'office': 477,\n",
       " 'ask': 478,\n",
       " 'happen': 479,\n",
       " '42': 480,\n",
       " 'thinking': 481,\n",
       " 'left': 482,\n",
       " 'common': 483,\n",
       " 'difficult': 484,\n",
       " 'sign': 485,\n",
       " 'white': 486,\n",
       " 'scary': 487,\n",
       " 'epidemic': 488,\n",
       " 'able': 489,\n",
       " 'learn': 490,\n",
       " 'kind': 491,\n",
       " '•': 492,\n",
       " '\\u2066\\u2069': 493,\n",
       " 'paper': 494,\n",
       " 'simple': 495,\n",
       " 'wish': 496,\n",
       " 'mass': 497,\n",
       " 'telling': 498,\n",
       " 'killing': 499,\n",
       " 'official': 500,\n",
       " 'idiots': 501,\n",
       " 'looking': 502,\n",
       " 'scared': 503,\n",
       " 'ends': 504,\n",
       " 'blood': 505,\n",
       " 'makes': 506,\n",
       " 'took': 507,\n",
       " 'thousands': 508,\n",
       " 'dies': 509,\n",
       " 'future': 510,\n",
       " 'mask': 511,\n",
       " 'buy': 512,\n",
       " 'though': 513,\n",
       " 'ever': 514,\n",
       " 'set': 515,\n",
       " 'single': 516,\n",
       " 'full': 517,\n",
       " 'ones': 518,\n",
       " 'impact': 519,\n",
       " 'masks': 520,\n",
       " 'ban': 521,\n",
       " 'dr': 522,\n",
       " 'middle': 523,\n",
       " 'w': 524,\n",
       " 'check': 525,\n",
       " 'attack': 526,\n",
       " 'etc': 527,\n",
       " 'means': 528,\n",
       " 'guess': 529,\n",
       " 'district': 530,\n",
       " 'app': 531,\n",
       " 'plan': 532,\n",
       " 'win': 533,\n",
       " 'avoid': 534,\n",
       " 'trumps': 535,\n",
       " 'e': 536,\n",
       " 'mr': 537,\n",
       " 'vaccine': 538,\n",
       " 'running': 539,\n",
       " 'season': 540,\n",
       " 'pain': 541,\n",
       " 'following': 542,\n",
       " 'nature': 543,\n",
       " 'maybe': 544,\n",
       " 'birthday': 545,\n",
       " 'families': 546,\n",
       " 'party': 547,\n",
       " 'hysteria': 548,\n",
       " 'members': 549,\n",
       " 'tonight': 550,\n",
       " 'stores': 551,\n",
       " 'vulnerable': 552,\n",
       " 'deadly': 553,\n",
       " 'children': 554,\n",
       " 'blame': 555,\n",
       " 'migrants': 556,\n",
       " 'second': 557,\n",
       " 'missing': 558,\n",
       " 'account': 559,\n",
       " 'actually': 560,\n",
       " 'stock': 561,\n",
       " 'ahead': 562,\n",
       " 'director': 563,\n",
       " 'wash': 564,\n",
       " 'congress': 565,\n",
       " 'joke': 566,\n",
       " 'afraid': 567,\n",
       " 'market': 568,\n",
       " 'feeling': 569,\n",
       " 'muslim': 570,\n",
       " 'focus': 571,\n",
       " 'area': 572,\n",
       " 'passes': 573,\n",
       " 'waiting': 574,\n",
       " 'low': 575,\n",
       " 'concern': 576,\n",
       " '9': 577,\n",
       " 'calls': 578,\n",
       " 'within': 579,\n",
       " 'service': 580,\n",
       " 'kindly': 581,\n",
       " 'warning': 582,\n",
       " 'hear': 583,\n",
       " 'numbers': 584,\n",
       " 'data': 585,\n",
       " 'lack': 586,\n",
       " 'monday': 587,\n",
       " 'literally': 588,\n",
       " 'total': 589,\n",
       " 'term': 590,\n",
       " 'bhai': 591,\n",
       " 'power': 592,\n",
       " 'truth': 593,\n",
       " 'conspiracy': 594,\n",
       " 'town': 595,\n",
       " 'matter': 596,\n",
       " 'toilet': 597,\n",
       " 'soul': 598,\n",
       " 'available': 599,\n",
       " 'event': 600,\n",
       " 'businesses': 601,\n",
       " 'finally': 602,\n",
       " 'later': 603,\n",
       " 'needed': 604,\n",
       " 'leaders': 605,\n",
       " 'article': 606,\n",
       " 'prime': 607,\n",
       " 'chance': 608,\n",
       " 'busy': 609,\n",
       " 'scare': 610,\n",
       " 'course': 611,\n",
       " '—': 612,\n",
       " 'tried': 613,\n",
       " 'youtube': 614,\n",
       " 'past': 615,\n",
       " 'leader': 616,\n",
       " 'anxiety': 617,\n",
       " 'bihar': 618,\n",
       " 'nobody': 619,\n",
       " 'deal': 620,\n",
       " 'jai': 621,\n",
       " 'humanity': 622,\n",
       " 'catch': 623,\n",
       " 'de': 624,\n",
       " 'calling': 625,\n",
       " 'effect': 626,\n",
       " 'created': 627,\n",
       " 'problems': 628,\n",
       " 'bjp': 629,\n",
       " 'young': 630,\n",
       " 'enjoy': 631,\n",
       " 'tomorrow': 632,\n",
       " '24': 633,\n",
       " 'cough': 634,\n",
       " 'rip': 635,\n",
       " 'join': 636,\n",
       " 'lying': 637,\n",
       " 'child': 638,\n",
       " 'gone': 639,\n",
       " 'imagine': 640,\n",
       " 'woman': 641,\n",
       " 'amazing': 642,\n",
       " 'supply': 643,\n",
       " 'link': 644,\n",
       " 'reported': 645,\n",
       " 'lose': 646,\n",
       " '40': 647,\n",
       " 'class': 648,\n",
       " 'passing': 649,\n",
       " 'history': 650,\n",
       " 'sindh': 651,\n",
       " 'front': 652,\n",
       " 'solution': 653,\n",
       " 'helping': 654,\n",
       " 'exposed': 655,\n",
       " 'level': 656,\n",
       " 'result': 657,\n",
       " 'moment': 658,\n",
       " 'combat': 659,\n",
       " 'tv': 660,\n",
       " 'cares': 661,\n",
       " 'mean': 662,\n",
       " '43': 663,\n",
       " 'forward': 664,\n",
       " 'announced': 665,\n",
       " 'al': 666,\n",
       " 'slow': 667,\n",
       " 'bc': 668,\n",
       " 'potential': 669,\n",
       " 'loss': 670,\n",
       " 'fun': 671,\n",
       " 'super': 672,\n",
       " 'hey': 673,\n",
       " 'lol': 674,\n",
       " 'losing': 675,\n",
       " 'true': 676,\n",
       " 'paid': 677,\n",
       " 'donald': 678,\n",
       " 'danger': 679,\n",
       " 'including': 680,\n",
       " 'lied': 681,\n",
       " 'v': 682,\n",
       " 'related': 683,\n",
       " 'wuhan': 684,\n",
       " 'group': 685,\n",
       " 'offer': 686,\n",
       " 'warns': 687,\n",
       " 'results': 688,\n",
       " 'towards': 689,\n",
       " 'idea': 690,\n",
       " 'ok': 691,\n",
       " 'june': 692,\n",
       " 'step': 693,\n",
       " '1st': 694,\n",
       " 'source': 695,\n",
       " 'went': 696,\n",
       " 'loved': 697,\n",
       " 'happening': 698,\n",
       " 'unable': 699,\n",
       " 'jk': 700,\n",
       " 'three': 701,\n",
       " 'heavyminussign': 702,\n",
       " 'attention': 703,\n",
       " 'humans': 704,\n",
       " 'idiot': 705,\n",
       " 'trust': 706,\n",
       " 'listen': 707,\n",
       " 'father': 708,\n",
       " 'along': 709,\n",
       " 'ridiculous': 710,\n",
       " '14': 711,\n",
       " 'asymptomatic': 712,\n",
       " 'watching': 713,\n",
       " 'cancel': 714,\n",
       " 'remember': 715,\n",
       " 'road': 716,\n",
       " 'hurt': 717,\n",
       " 'move': 718,\n",
       " 'cnn': 719,\n",
       " 'question': 720,\n",
       " 'plz': 721,\n",
       " 'gives': 722,\n",
       " 'buying': 723,\n",
       " 'touch': 724,\n",
       " 'fr': 725,\n",
       " 'homes': 726,\n",
       " '25': 727,\n",
       " 'request': 728,\n",
       " 'dumb': 729,\n",
       " 'purpose': 730,\n",
       " 'asked': 731,\n",
       " 'prayers': 732,\n",
       " '…pic': 733,\n",
       " 'tweet': 734,\n",
       " 'mother': 735,\n",
       " '18': 736,\n",
       " 'experts': 737,\n",
       " 'governments': 738,\n",
       " 'provide': 739,\n",
       " 'turn': 740,\n",
       " 'migrant': 741,\n",
       " 'likely': 742,\n",
       " 'major': 743,\n",
       " 'shutdown': 744,\n",
       " 'medicine': 745,\n",
       " 'united': 746,\n",
       " 'return': 747,\n",
       " 'play': 748,\n",
       " 'mental': 749,\n",
       " 'immediately': 750,\n",
       " 'update': 751,\n",
       " 'report': 752,\n",
       " 'classes': 753,\n",
       " 'water': 754,\n",
       " 'warriors': 755,\n",
       " 'deep': 756,\n",
       " 'cost': 757,\n",
       " 'critical': 758,\n",
       " 'cryingface': 759,\n",
       " 'kashmir': 760,\n",
       " 'appreciate': 761,\n",
       " 'shows': 762,\n",
       " 'ways': 763,\n",
       " 'moving': 764,\n",
       " 'fine': 765,\n",
       " 'mortality': 766,\n",
       " 'highest': 767,\n",
       " 'destroy': 768,\n",
       " 'according': 769,\n",
       " '50': 770,\n",
       " 'usa': 771,\n",
       " 'celebrated': 772,\n",
       " 'trip': 773,\n",
       " 'issues': 774,\n",
       " 'senior': 775,\n",
       " 'son': 776,\n",
       " 'panicking': 777,\n",
       " 'rise': 778,\n",
       " 'increased': 779,\n",
       " 'severe': 780,\n",
       " 'especially': 781,\n",
       " 'comment': 782,\n",
       " 'employees': 783,\n",
       " 'bunch': 784,\n",
       " 'dude': 785,\n",
       " 'zero': 786,\n",
       " 'tough': 787,\n",
       " 'dems': 788,\n",
       " 'strong': 789,\n",
       " 'informed': 790,\n",
       " 'college': 791,\n",
       " 'recovered': 792,\n",
       " 'security': 793,\n",
       " 'seems': 794,\n",
       " 'cant': 795,\n",
       " 'word': 796,\n",
       " 'beds': 797,\n",
       " 'parents': 798,\n",
       " 'red': 799,\n",
       " 'room': 800,\n",
       " 'easy': 801,\n",
       " 'staying': 802,\n",
       " 'anyway': 803,\n",
       " 'list': 804,\n",
       " 'effective': 805,\n",
       " 'federal': 806,\n",
       " 'nice': 807,\n",
       " 'google': 808,\n",
       " 'maharashtra': 809,\n",
       " 'ebola': 810,\n",
       " 'locked': 811,\n",
       " 'happened': 812,\n",
       " 'starting': 813,\n",
       " 'folks': 814,\n",
       " 'however': 815,\n",
       " 'attacks': 816,\n",
       " 'advice': 817,\n",
       " 'stranded': 818,\n",
       " 'stress': 819,\n",
       " 'jammu': 820,\n",
       " 'johnson': 821,\n",
       " 'either': 822,\n",
       " 'amidst': 823,\n",
       " 'international': 824,\n",
       " 'playing': 825,\n",
       " 'latest': 826,\n",
       " 'videos': 827,\n",
       " 'huge': 828,\n",
       " 'boost': 829,\n",
       " 'immune': 830,\n",
       " 'immunity': 831,\n",
       " 'bless': 832,\n",
       " 'north': 833,\n",
       " 'takes': 834,\n",
       " 'blessed': 835,\n",
       " 'rose': 836,\n",
       " 'closing': 837,\n",
       " 'lots': 838,\n",
       " 'plans': 839,\n",
       " 'excellent': 840,\n",
       " 'whatever': 841,\n",
       " 'everyday': 842,\n",
       " 'rules': 843,\n",
       " 'millions': 844,\n",
       " 'blaming': 845,\n",
       " 'shop': 846,\n",
       " 'healthcare': 847,\n",
       " 'inside': 848,\n",
       " 'salute': 849,\n",
       " 'keeping': 850,\n",
       " 'updates': 851,\n",
       " 'quality': 852,\n",
       " 'agree': 853,\n",
       " 'g': 854,\n",
       " 'id': 855,\n",
       " '13': 856,\n",
       " 'handle': 857,\n",
       " 'rid': 858,\n",
       " 'brought': 859,\n",
       " 'irresponsible': 860,\n",
       " '60': 861,\n",
       " '12': 862,\n",
       " 'asking': 863,\n",
       " 'heres': 864,\n",
       " 'planning': 865,\n",
       " 'cut': 866,\n",
       " 'brothers': 867,\n",
       " 'followers': 868,\n",
       " 'treat': 869,\n",
       " 'popular': 870,\n",
       " 'bbc': 871,\n",
       " 'hour': 872,\n",
       " 'isolation': 873,\n",
       " 'style': 874,\n",
       " 'key': 875,\n",
       " 'per': 876,\n",
       " 'bed': 877,\n",
       " 'peoples': 878,\n",
       " 'cold': 879,\n",
       " 'handling': 880,\n",
       " 'opportunity': 881,\n",
       " 'view': 882,\n",
       " 'sense': 883,\n",
       " 'deserve': 884,\n",
       " 'stimulus': 885,\n",
       " 'regarding': 886,\n",
       " 'flight': 887,\n",
       " 'increase': 888,\n",
       " 'fast': 889,\n",
       " 'works': 890,\n",
       " 'stuck': 891,\n",
       " 'shri': 892,\n",
       " 'outside': 893,\n",
       " 'political': 894,\n",
       " 'russia': 895,\n",
       " 'breaking': 896,\n",
       " 'conference': 897,\n",
       " 'voice': 898,\n",
       " 'calm': 899,\n",
       " 'misinformation': 900,\n",
       " 'failure': 901,\n",
       " 'rt': 902,\n",
       " 'hindu': 903,\n",
       " 'causing': 904,\n",
       " 'precautions': 905,\n",
       " 'based': 906,\n",
       " 'markets': 907,\n",
       " 'odisha': 908,\n",
       " 'type': 909,\n",
       " 'creating': 910,\n",
       " 'condition': 911,\n",
       " 'friday': 912,\n",
       " 'demand': 913,\n",
       " 'strategy': 914,\n",
       " 'fees': 915,\n",
       " 'series': 916,\n",
       " 'europe': 917,\n",
       " 'heard': 918,\n",
       " 'election': 919,\n",
       " 'survive': 920,\n",
       " 'absolutely': 921,\n",
       " 'circumstances': 922,\n",
       " 'mom': 923,\n",
       " 'short': 924,\n",
       " 'aiims': 925,\n",
       " 'rent': 926,\n",
       " 'borders': 927,\n",
       " 'summer': 928,\n",
       " 'yr': 929,\n",
       " 'tired': 930,\n",
       " 'streets': 931,\n",
       " 'wearing': 932,\n",
       " 'killed': 933,\n",
       " 'contagion': 934,\n",
       " 'hotel': 935,\n",
       " 'block': 936,\n",
       " '21': 937,\n",
       " 'warn': 938,\n",
       " 'reading': 939,\n",
       " 'diamondsuit': 940,\n",
       " 'nagar': 941,\n",
       " 'bro': 942,\n",
       " 'unfortunately': 943,\n",
       " 'book': 944,\n",
       " 'putting': 945,\n",
       " 'remain': 946,\n",
       " 'respected': 947,\n",
       " 'teachers': 948,\n",
       " 'smart': 949,\n",
       " 'thinks': 950,\n",
       " 'shortage': 951,\n",
       " 'general': 952,\n",
       " 'responsibility': 953,\n",
       " 'ease': 954,\n",
       " 'pass': 955,\n",
       " 'side': 956,\n",
       " 'recession': 957,\n",
       " 'hunger': 958,\n",
       " 'extend': 959,\n",
       " 'teach': 960,\n",
       " 'third': 961,\n",
       " 'bank': 962,\n",
       " 'network': 963,\n",
       " 'welcome': 964,\n",
       " '31': 965,\n",
       " 'normal': 966,\n",
       " 'gym': 967,\n",
       " 'seem': 968,\n",
       " 'policy': 969,\n",
       " 'walking': 970,\n",
       " 'tips': 971,\n",
       " 'remove': 972,\n",
       " 'letting': 973,\n",
       " '400': 974,\n",
       " 'earth': 975,\n",
       " 'guy': 976,\n",
       " 'areas': 977,\n",
       " 'defeat': 978,\n",
       " 'respect': 979,\n",
       " 'warned': 980,\n",
       " 'acting': 981,\n",
       " 'contact': 982,\n",
       " 'helped': 983,\n",
       " 'washing': 984,\n",
       " 'knew': 985,\n",
       " 'consider': 986,\n",
       " 'light': 987,\n",
       " 'events': 988,\n",
       " 'send': 989,\n",
       " 'pretty': 990,\n",
       " 'p': 991,\n",
       " 'story': 992,\n",
       " 'gave': 993,\n",
       " 'direct': 994,\n",
       " 'kidney': 995,\n",
       " 'initiative': 996,\n",
       " 'hv': 997,\n",
       " 'park': 998,\n",
       " 'personal': 999,\n",
       " 'movie': 1000,\n",
       " ...}"
      ]
     },
     "execution_count": 39,
     "metadata": {},
     "output_type": "execute_result"
    }
   ],
   "source": [
    "vocab_to_int"
   ]
  },
  {
   "cell_type": "code",
   "execution_count": 40,
   "metadata": {
    "execution": {
     "iopub.execute_input": "2020-08-10T17:24:50.822520Z",
     "iopub.status.busy": "2020-08-10T17:24:50.820588Z",
     "iopub.status.idle": "2020-08-10T17:24:50.823449Z",
     "shell.execute_reply": "2020-08-10T17:24:50.823986Z"
    },
    "papermill": {
     "duration": 0.055828,
     "end_time": "2020-08-10T17:24:50.824117",
     "exception": false,
     "start_time": "2020-08-10T17:24:50.768289",
     "status": "completed"
    },
    "tags": []
   },
   "outputs": [],
   "source": [
    "encoded_reviews = []\n",
    "for review in reviews_split:\n",
    "    encoded_reviews.append([vocab_to_int[word] for word in review])\n"
   ]
  },
  {
   "cell_type": "code",
   "execution_count": 41,
   "metadata": {
    "execution": {
     "iopub.execute_input": "2020-08-10T17:24:50.906037Z",
     "iopub.status.busy": "2020-08-10T17:24:50.905302Z",
     "iopub.status.idle": "2020-08-10T17:24:50.909751Z",
     "shell.execute_reply": "2020-08-10T17:24:50.910214Z"
    },
    "papermill": {
     "duration": 0.047256,
     "end_time": "2020-08-10T17:24:50.910347",
     "exception": false,
     "start_time": "2020-08-10T17:24:50.863091",
     "status": "completed"
    },
    "tags": []
   },
   "outputs": [
    {
     "name": "stdout",
     "output_type": "stream",
     "text": [
      "10662\n",
      "[[853, 186, 20, 1079, 1457, 4429, 2201, 407, 1240, 1079, 15, 218, 337, 167, 253, 462, 337, 122, 168, 4430, 4431, 140, 23, 264, 58, 765, 3, 5, 195, 1079, 2966, 274], [80, 1755, 4432, 2967, 4433, 86, 854, 1080, 2968, 4434, 4435, 7], [543, 4436, 946, 1458, 265, 2, 1241, 168, 2202], [1, 4437, 169, 266, 1459, 129, 1242, 47, 7], [304, 1756, 4438, 168, 8, 39, 219, 93, 355, 4, 21], [2203, 2204, 1, 1757, 1243, 2969, 1460, 1081, 1461, 4439, 98, 4440], [947, 37, 1758, 285, 948, 4441, 1462, 2205, 13, 3, 5, 4442, 285, 1244, 4443, 1463, 4444, 4445, 286, 4446, 15, 4447, 47, 228, 2970, 338, 40, 312, 1463, 179, 1759], [41, 377, 149, 1245, 4448, 34], [2206, 649, 180, 1760, 2207, 91, 650, 378, 463, 1246, 595, 1464, 2208, 2, 8, 2209, 651, 40, 379, 2210, 21, 228, 703, 1246, 1761, 408], [2206, 649, 180, 1760, 2207, 91, 650, 378, 463, 1246, 595, 1464, 2208, 2, 8, 2209, 651, 40, 379, 2210, 21, 228, 703, 1246, 2971]]\n"
     ]
    }
   ],
   "source": [
    "print(len(vocab_to_int))\n",
    "print(encoded_reviews[:10])"
   ]
  },
  {
   "cell_type": "markdown",
   "metadata": {
    "papermill": {
     "duration": 0.037086,
     "end_time": "2020-08-10T17:24:50.986299",
     "exception": false,
     "start_time": "2020-08-10T17:24:50.949213",
     "status": "completed"
    },
    "tags": []
   },
   "source": [
    "## Encoding Sentiments\n"
   ]
  },
  {
   "cell_type": "code",
   "execution_count": 42,
   "metadata": {
    "execution": {
     "iopub.execute_input": "2020-08-10T17:24:51.100361Z",
     "iopub.status.busy": "2020-08-10T17:24:51.090206Z",
     "iopub.status.idle": "2020-08-10T17:24:51.394459Z",
     "shell.execute_reply": "2020-08-10T17:24:51.394953Z"
    },
    "papermill": {
     "duration": 0.370607,
     "end_time": "2020-08-10T17:24:51.395114",
     "exception": false,
     "start_time": "2020-08-10T17:24:51.024507",
     "status": "completed"
    },
    "tags": []
   },
   "outputs": [],
   "source": [
    "labels_to_int = []\n",
    "for i, j in sentiment_df.iterrows():\n",
    "    if j['sentiment']=='joy':\n",
    "        labels_to_int.append(1)\n",
    "    else:\n",
    "        labels_to_int.append(0)\n",
    "    "
   ]
  },
  {
   "cell_type": "markdown",
   "metadata": {
    "papermill": {
     "duration": 0.040247,
     "end_time": "2020-08-10T17:24:51.475113",
     "exception": false,
     "start_time": "2020-08-10T17:24:51.434866",
     "status": "completed"
    },
    "tags": []
   },
   "source": [
    "## Detecting any outlier reviews\n",
    "\n",
    "This step involves\n",
    "1. Getting rid of extremely long/short reviews\n",
    "2. Padding "
   ]
  },
  {
   "cell_type": "code",
   "execution_count": 43,
   "metadata": {
    "execution": {
     "iopub.execute_input": "2020-08-10T17:24:51.556784Z",
     "iopub.status.busy": "2020-08-10T17:24:51.556168Z",
     "iopub.status.idle": "2020-08-10T17:24:51.561633Z",
     "shell.execute_reply": "2020-08-10T17:24:51.561084Z"
    },
    "papermill": {
     "duration": 0.048781,
     "end_time": "2020-08-10T17:24:51.561733",
     "exception": false,
     "start_time": "2020-08-10T17:24:51.512952",
     "status": "completed"
    },
    "tags": []
   },
   "outputs": [
    {
     "name": "stdout",
     "output_type": "stream",
     "text": [
      "48\n"
     ]
    }
   ],
   "source": [
    "reviews_len = Counter([len(x) for x in encoded_reviews])\n",
    "print(max(reviews_len))\n",
    "#len(encoded_reviews)"
   ]
  },
  {
   "cell_type": "code",
   "execution_count": 44,
   "metadata": {
    "execution": {
     "iopub.execute_input": "2020-08-10T17:24:51.647406Z",
     "iopub.status.busy": "2020-08-10T17:24:51.646586Z",
     "iopub.status.idle": "2020-08-10T17:24:51.652176Z",
     "shell.execute_reply": "2020-08-10T17:24:51.652687Z"
    },
    "papermill": {
     "duration": 0.051428,
     "end_time": "2020-08-10T17:24:51.652889",
     "exception": false,
     "start_time": "2020-08-10T17:24:51.601461",
     "status": "completed"
    },
    "tags": []
   },
   "outputs": [
    {
     "name": "stdout",
     "output_type": "stream",
     "text": [
      "3090\n"
     ]
    }
   ],
   "source": [
    "print(len(encoded_reviews))"
   ]
  },
  {
   "cell_type": "code",
   "execution_count": 45,
   "metadata": {
    "execution": {
     "iopub.execute_input": "2020-08-10T17:24:51.741141Z",
     "iopub.status.busy": "2020-08-10T17:24:51.739202Z",
     "iopub.status.idle": "2020-08-10T17:24:51.741811Z",
     "shell.execute_reply": "2020-08-10T17:24:51.742292Z"
    },
    "papermill": {
     "duration": 0.049949,
     "end_time": "2020-08-10T17:24:51.742431",
     "exception": false,
     "start_time": "2020-08-10T17:24:51.692482",
     "status": "completed"
    },
    "tags": []
   },
   "outputs": [],
   "source": [
    "non_zero_idx = [ii for ii, review in enumerate(encoded_reviews) if len(encoded_reviews)!=0]\n",
    "encoded_reviews = [encoded_reviews[ii] for ii in non_zero_idx]\n",
    "encoded_labels = np.array([labels_to_int[ii] for ii in non_zero_idx])"
   ]
  },
  {
   "cell_type": "code",
   "execution_count": 46,
   "metadata": {
    "execution": {
     "iopub.execute_input": "2020-08-10T17:24:51.829298Z",
     "iopub.status.busy": "2020-08-10T17:24:51.828494Z",
     "iopub.status.idle": "2020-08-10T17:24:51.833600Z",
     "shell.execute_reply": "2020-08-10T17:24:51.834381Z"
    },
    "papermill": {
     "duration": 0.052055,
     "end_time": "2020-08-10T17:24:51.834564",
     "exception": false,
     "start_time": "2020-08-10T17:24:51.782509",
     "status": "completed"
    },
    "tags": []
   },
   "outputs": [
    {
     "name": "stdout",
     "output_type": "stream",
     "text": [
      "3090\n",
      "3090\n"
     ]
    }
   ],
   "source": [
    "print(len(encoded_reviews))\n",
    "print(len(encoded_labels))"
   ]
  },
  {
   "cell_type": "code",
   "execution_count": 47,
   "metadata": {
    "execution": {
     "iopub.execute_input": "2020-08-10T17:24:51.923947Z",
     "iopub.status.busy": "2020-08-10T17:24:51.922093Z",
     "iopub.status.idle": "2020-08-10T17:24:51.924600Z",
     "shell.execute_reply": "2020-08-10T17:24:51.925068Z"
    },
    "papermill": {
     "duration": 0.049669,
     "end_time": "2020-08-10T17:24:51.925200",
     "exception": false,
     "start_time": "2020-08-10T17:24:51.875531",
     "status": "completed"
    },
    "tags": []
   },
   "outputs": [],
   "source": [
    "def pad_features(reviews_int, seq_length):\n",
    "    features = np.zeros((len(reviews_int), seq_length), dtype=int)\n",
    "    for i, row in enumerate(reviews_int):\n",
    "        if len(row)!=0:\n",
    "            features[i, -len(row):] = np.array(row)[:seq_length]\n",
    "    return features"
   ]
  },
  {
   "cell_type": "code",
   "execution_count": 48,
   "metadata": {
    "execution": {
     "iopub.execute_input": "2020-08-10T17:24:52.015570Z",
     "iopub.status.busy": "2020-08-10T17:24:52.012189Z",
     "iopub.status.idle": "2020-08-10T17:24:52.042035Z",
     "shell.execute_reply": "2020-08-10T17:24:52.041405Z"
    },
    "papermill": {
     "duration": 0.076024,
     "end_time": "2020-08-10T17:24:52.042163",
     "exception": false,
     "start_time": "2020-08-10T17:24:51.966139",
     "status": "completed"
    },
    "tags": []
   },
   "outputs": [
    {
     "name": "stdout",
     "output_type": "stream",
     "text": [
      "[[   0    0    0    0    0    0    0    0    0    0    0    0    0    0\n",
      "     0    0    0    0  853  186   20 1079 1457 4429 2201  407 1240 1079\n",
      "    15  218  337  167  253  462  337  122  168 4430 4431  140   23  264\n",
      "    58  765    3    5  195 1079 2966  274]\n",
      " [   0    0    0    0    0    0    0    0    0    0    0    0    0    0\n",
      "     0    0    0    0    0    0    0    0    0    0    0    0    0    0\n",
      "     0    0    0    0    0    0    0    0    0    0   80 1755 4432 2967\n",
      "  4433   86  854 1080 2968 4434 4435    7]]\n"
     ]
    }
   ],
   "source": [
    "seq_length = 50\n",
    "padded_features= pad_features(encoded_reviews, seq_length)\n",
    "print(padded_features[:2])\n"
   ]
  },
  {
   "cell_type": "markdown",
   "metadata": {
    "papermill": {
     "duration": 0.039512,
     "end_time": "2020-08-10T17:24:52.123994",
     "exception": false,
     "start_time": "2020-08-10T17:24:52.084482",
     "status": "completed"
    },
    "tags": []
   },
   "source": [
    "## Training, Testing and Validating"
   ]
  },
  {
   "cell_type": "code",
   "execution_count": 49,
   "metadata": {
    "execution": {
     "iopub.execute_input": "2020-08-10T17:24:52.213181Z",
     "iopub.status.busy": "2020-08-10T17:24:52.212141Z",
     "iopub.status.idle": "2020-08-10T17:24:52.215230Z",
     "shell.execute_reply": "2020-08-10T17:24:52.214707Z"
    },
    "papermill": {
     "duration": 0.051353,
     "end_time": "2020-08-10T17:24:52.215339",
     "exception": false,
     "start_time": "2020-08-10T17:24:52.163986",
     "status": "completed"
    },
    "tags": []
   },
   "outputs": [
    {
     "name": "stdout",
     "output_type": "stream",
     "text": [
      "2472\n",
      "618\n"
     ]
    }
   ],
   "source": [
    "split_frac = 0.8\n",
    "split_idx = int(len(padded_features)*split_frac)\n",
    "\n",
    "training_x, remaining_x = padded_features[:split_idx], padded_features[split_idx:]\n",
    "training_y, remaining_y = encoded_labels[:split_idx], encoded_labels[split_idx:]\n",
    "\n",
    "print(len(training_x))\n",
    "print(len(remaining_x))\n",
    "test_idx = int(len(remaining_x)*0.5)\n",
    "val_x, test_x = remaining_x[:test_idx], remaining_x[test_idx:]\n",
    "val_y, test_y = remaining_y[:test_idx], remaining_y[test_idx:]\n"
   ]
  },
  {
   "cell_type": "code",
   "execution_count": 50,
   "metadata": {},
   "outputs": [
    {
     "data": {
      "text/plain": [
       "array([   0,    0,    0,    0,    0,    0,    0,    0,    0,    0,    0,\n",
       "          0,    0,    0,    0,    0,    0,    0,  853,  186,   20, 1079,\n",
       "       1457, 4429, 2201,  407, 1240, 1079,   15,  218,  337,  167,  253,\n",
       "        462,  337,  122,  168, 4430, 4431,  140,   23,  264,   58,  765,\n",
       "          3,    5,  195, 1079, 2966,  274])"
      ]
     },
     "execution_count": 50,
     "metadata": {},
     "output_type": "execute_result"
    }
   ],
   "source": [
    "padded_features[0]"
   ]
  },
  {
   "cell_type": "markdown",
   "metadata": {
    "papermill": {
     "duration": 0.057143,
     "end_time": "2020-08-10T17:24:52.312294",
     "exception": false,
     "start_time": "2020-08-10T17:24:52.255151",
     "status": "completed"
    },
    "tags": []
   },
   "source": [
    "## Dataloaders and Batching\n",
    "\n"
   ]
  },
  {
   "cell_type": "code",
   "execution_count": 51,
   "metadata": {
    "execution": {
     "iopub.execute_input": "2020-08-10T17:24:52.462787Z",
     "iopub.status.busy": "2020-08-10T17:24:52.461701Z",
     "iopub.status.idle": "2020-08-10T17:24:54.030745Z",
     "shell.execute_reply": "2020-08-10T17:24:54.029067Z"
    },
    "papermill": {
     "duration": 1.646106,
     "end_time": "2020-08-10T17:24:54.030927",
     "exception": false,
     "start_time": "2020-08-10T17:24:52.384821",
     "status": "completed"
    },
    "tags": []
   },
   "outputs": [],
   "source": [
    "import torch\n",
    "from torch.utils.data import TensorDataset, DataLoader\n",
    "import warnings\n",
    "warnings.filterwarnings('ignore')"
   ]
  },
  {
   "cell_type": "code",
   "execution_count": 52,
   "metadata": {
    "execution": {
     "iopub.execute_input": "2020-08-10T17:24:54.128909Z",
     "iopub.status.busy": "2020-08-10T17:24:54.127010Z",
     "iopub.status.idle": "2020-08-10T17:24:54.129572Z",
     "shell.execute_reply": "2020-08-10T17:24:54.130101Z"
    },
    "papermill": {
     "duration": 0.057114,
     "end_time": "2020-08-10T17:24:54.130248",
     "exception": false,
     "start_time": "2020-08-10T17:24:54.073134",
     "status": "completed"
    },
    "tags": []
   },
   "outputs": [],
   "source": [
    "# torch.from_numpy creates a tensor data from n-d array\n",
    "train_data = TensorDataset(torch.from_numpy(training_x), torch.from_numpy(training_y))\n",
    "test_data = TensorDataset(torch.from_numpy(test_x), torch.from_numpy(test_y))\n",
    "valid_data = TensorDataset(torch.from_numpy(val_x), torch.from_numpy(val_y))\n",
    "\n",
    "batch_size = 1\n",
    "\n",
    "train_loader = DataLoader(train_data, batch_size=batch_size)\n",
    "test_loader = DataLoader(test_data, batch_size=batch_size)\n",
    "valid_loader = DataLoader(valid_data, batch_size=batch_size)"
   ]
  },
  {
   "cell_type": "markdown",
   "metadata": {
    "papermill": {
     "duration": 0.04245,
     "end_time": "2020-08-10T17:24:54.305757",
     "exception": false,
     "start_time": "2020-08-10T17:24:54.263307",
     "status": "completed"
    },
    "tags": []
   },
   "source": [
    "## Sentiment Network\n",
    "Below are the various layers of our RNN that would perform sentiment analysis -<br>\n",
    "1. An *embedding layer* that converts our word tokens (integers) into embeddings of a specific size.\n",
    "2. A *LSTM layer* defined by a hidden_state size and number of layers\n",
    "3. A fully-connected output layer that maps the LSTM layer outputs to a desired output_size\n",
    "4. A sigmoid activation layer which turns all outputs into a value 0-1; return only the last sigmoid output as the output of this network.\""
   ]
  },
  {
   "cell_type": "code",
   "execution_count": 54,
   "metadata": {
    "execution": {
     "iopub.execute_input": "2020-08-10T17:24:54.418336Z",
     "iopub.status.busy": "2020-08-10T17:24:54.417350Z",
     "iopub.status.idle": "2020-08-10T17:24:54.420412Z",
     "shell.execute_reply": "2020-08-10T17:24:54.419751Z"
    },
    "papermill": {
     "duration": 0.061351,
     "end_time": "2020-08-10T17:24:54.420525",
     "exception": false,
     "start_time": "2020-08-10T17:24:54.359174",
     "status": "completed"
    },
    "tags": []
   },
   "outputs": [],
   "source": [
    "import torch.nn as nn\n",
    "\n",
    "class CovidTweetSentimentAnalysis(nn.Module):\n",
    "    def __init__(self, vocab_size, output_size, embedding_dim, hidden_dim, n_layers, drop_prob=0.2):\n",
    "        super(CovidTweetSentimentAnalysis, self).__init__()\n",
    "        self.output_size = output_size\n",
    "        self.n_layers = n_layers\n",
    "        self.hidden_dim = hidden_dim\n",
    "        \n",
    "        self.embedding_layer = nn.Embedding(vocab_size, embedding_dim)\n",
    "        self.lstm = nn.LSTM(embedding_dim, hidden_dim, n_layers, dropout=drop_prob, batch_first=True)\n",
    "        \n",
    "        self.dropout = nn.Dropout(0.3)\n",
    "        self.fc = nn.Linear(hidden_dim, output_size)\n",
    "        self.sig = nn.Sigmoid() # 0-sad and 1-joy\n",
    "    \n",
    "    def forward(self, x, hidden):\n",
    "        # x : batch_size * seq_length * features\n",
    "        batch_size = x.size(0)\n",
    "        x = x.long()\n",
    "        embeds = self.embedding_layer(x)\n",
    "        lstm_out, hidden = self.lstm(embeds, hidden)\n",
    "        lstm_out = lstm_out.contiguous().view(-1, self.hidden_dim)\n",
    "        out = self.dropout(lstm_out)\n",
    "        out = self.fc(out)\n",
    "        sig_out = self.sig(out)\n",
    "        \n",
    "        sig_out = sig_out.view(batch_size, -1)\n",
    "        sig_out = sig_out[:, -1]\n",
    "        \n",
    "        return sig_out, hidden\n",
    "    \n",
    "    def init_hidden(self, batch_size):\n",
    "        # initialize weights for lstm layer\n",
    "        weights = next(self.parameters()).data\n",
    "        \n",
    "        hidden = (weights.new(self.n_layers, batch_size, self.hidden_dim).zero_(),\n",
    "                     weights.new(self.n_layers, batch_size, self.hidden_dim).zero_())\n",
    "        return hidden"
   ]
  },
  {
   "cell_type": "markdown",
   "metadata": {
    "papermill": {
     "duration": 0.040089,
     "end_time": "2020-08-10T17:24:54.502660",
     "exception": false,
     "start_time": "2020-08-10T17:24:54.462571",
     "status": "completed"
    },
    "tags": []
   },
   "source": [
    "## Instantiate the network\n"
   ]
  },
  {
   "cell_type": "code",
   "execution_count": 55,
   "metadata": {
    "execution": {
     "iopub.execute_input": "2020-08-10T17:24:54.589663Z",
     "iopub.status.busy": "2020-08-10T17:24:54.588758Z",
     "iopub.status.idle": "2020-08-10T17:24:54.592105Z",
     "shell.execute_reply": "2020-08-10T17:24:54.591528Z"
    },
    "papermill": {
     "duration": 0.047992,
     "end_time": "2020-08-10T17:24:54.592222",
     "exception": false,
     "start_time": "2020-08-10T17:24:54.544230",
     "status": "completed"
    },
    "tags": []
   },
   "outputs": [],
   "source": [
    "vocab_size = len(vocab_to_int)+1 # +1 for the 0 padding + our word tokens\n",
    "output_size = 1 # either happy or sad\n",
    "embedding_dim = 400\n",
    "hidden_dim = 256\n",
    "n_layers = 2"
   ]
  },
  {
   "cell_type": "code",
   "execution_count": 56,
   "metadata": {
    "execution": {
     "iopub.execute_input": "2020-08-10T17:24:54.689247Z",
     "iopub.status.busy": "2020-08-10T17:24:54.688211Z",
     "iopub.status.idle": "2020-08-10T17:24:54.796444Z",
     "shell.execute_reply": "2020-08-10T17:24:54.797577Z"
    },
    "papermill": {
     "duration": 0.16719,
     "end_time": "2020-08-10T17:24:54.797781",
     "exception": false,
     "start_time": "2020-08-10T17:24:54.630591",
     "status": "completed"
    },
    "tags": []
   },
   "outputs": [
    {
     "name": "stdout",
     "output_type": "stream",
     "text": [
      "CovidTweetSentimentAnalysis(\n",
      "  (embedding_layer): Embedding(10663, 400)\n",
      "  (lstm): LSTM(400, 256, num_layers=2, batch_first=True, dropout=0.2)\n",
      "  (dropout): Dropout(p=0.3)\n",
      "  (fc): Linear(in_features=256, out_features=1, bias=True)\n",
      "  (sig): Sigmoid()\n",
      ")\n"
     ]
    }
   ],
   "source": [
    "net = CovidTweetSentimentAnalysis(vocab_size, output_size, embedding_dim, hidden_dim, n_layers)\n",
    "print(net)"
   ]
  },
  {
   "cell_type": "code",
   "execution_count": 57,
   "metadata": {
    "execution": {
     "iopub.execute_input": "2020-08-10T17:24:54.934097Z",
     "iopub.status.busy": "2020-08-10T17:24:54.933083Z",
     "iopub.status.idle": "2020-08-10T17:24:54.937310Z",
     "shell.execute_reply": "2020-08-10T17:24:54.938025Z"
    },
    "papermill": {
     "duration": 0.075585,
     "end_time": "2020-08-10T17:24:54.938218",
     "exception": false,
     "start_time": "2020-08-10T17:24:54.862633",
     "status": "completed"
    },
    "tags": []
   },
   "outputs": [],
   "source": [
    "lr = 0.001\n",
    "criterion = nn.BCELoss() #since output between 0 and 1\n",
    "optimizer = torch.optim.Adam(net.parameters(), lr=lr)"
   ]
  },
  {
   "cell_type": "code",
   "execution_count": 58,
   "metadata": {
    "execution": {
     "iopub.execute_input": "2020-08-10T17:24:55.697805Z",
     "iopub.status.busy": "2020-08-10T17:24:55.692990Z",
     "iopub.status.idle": "2020-08-10T17:26:15.028961Z",
     "shell.execute_reply": "2020-08-10T17:26:15.028314Z"
    },
    "papermill": {
     "duration": 80.025071,
     "end_time": "2020-08-10T17:26:15.029109",
     "exception": false,
     "start_time": "2020-08-10T17:24:55.004038",
     "status": "completed"
    },
    "tags": []
   },
   "outputs": [
    {
     "name": "stdout",
     "output_type": "stream",
     "text": [
      "Epoch: 1/2... Step: 100... Loss: 0.105578... Val Loss: 0.159281\n",
      "Epoch: 1/2... Step: 200... Loss: 0.127264... Val Loss: 0.097994\n",
      "Epoch: 1/2... Step: 300... Loss: 0.109946... Val Loss: 0.124884\n",
      "Epoch: 1/2... Step: 400... Loss: 0.147304... Val Loss: 0.105414\n",
      "Epoch: 1/2... Step: 500... Loss: 1.047486... Val Loss: 0.179290\n",
      "Epoch: 1/2... Step: 600... Loss: 0.075047... Val Loss: 0.128124\n",
      "Epoch: 1/2... Step: 700... Loss: 0.642271... Val Loss: 0.056822\n",
      "Epoch: 1/2... Step: 800... Loss: 0.702609... Val Loss: 0.829031\n",
      "Epoch: 1/2... Step: 900... Loss: 0.683773... Val Loss: 0.629355\n",
      "Epoch: 1/2... Step: 1000... Loss: 0.010297... Val Loss: 0.096778\n",
      "Epoch: 1/2... Step: 1100... Loss: 0.116471... Val Loss: 0.583634\n",
      "Epoch: 1/2... Step: 1200... Loss: 0.594724... Val Loss: 0.762578\n",
      "Epoch: 1/2... Step: 1300... Loss: 0.046611... Val Loss: 0.039155\n",
      "Epoch: 1/2... Step: 1400... Loss: 0.030256... Val Loss: 0.246467\n",
      "Epoch: 1/2... Step: 1500... Loss: 0.478902... Val Loss: 0.106482\n",
      "Epoch: 1/2... Step: 1600... Loss: 0.176505... Val Loss: 0.098919\n",
      "Epoch: 1/2... Step: 1700... Loss: 1.975213... Val Loss: 0.063781\n",
      "Epoch: 1/2... Step: 1800... Loss: 0.012312... Val Loss: 0.020175\n",
      "Epoch: 1/2... Step: 1900... Loss: 0.191569... Val Loss: 0.025072\n",
      "Epoch: 1/2... Step: 2000... Loss: 0.286642... Val Loss: 0.030315\n",
      "Epoch: 1/2... Step: 2100... Loss: 0.073141... Val Loss: 0.180489\n",
      "Epoch: 1/2... Step: 2200... Loss: 0.091867... Val Loss: 0.144929\n",
      "Epoch: 1/2... Step: 2300... Loss: 0.240884... Val Loss: 0.082719\n",
      "Epoch: 1/2... Step: 2400... Loss: 0.022824... Val Loss: 0.032705\n",
      "Epoch: 2/2... Step: 2500... Loss: 0.294403... Val Loss: 0.055709\n",
      "Epoch: 2/2... Step: 2600... Loss: 0.012086... Val Loss: 0.057256\n",
      "Epoch: 2/2... Step: 2700... Loss: 0.210198... Val Loss: 0.006994\n",
      "Epoch: 2/2... Step: 2800... Loss: 0.124484... Val Loss: 0.013476\n",
      "Epoch: 2/2... Step: 2900... Loss: 0.002293... Val Loss: 0.003730\n",
      "Epoch: 2/2... Step: 3000... Loss: 0.002436... Val Loss: 0.002017\n",
      "Epoch: 2/2... Step: 3100... Loss: 0.003014... Val Loss: 0.001507\n",
      "Epoch: 2/2... Step: 3200... Loss: 0.016284... Val Loss: 0.002646\n",
      "Epoch: 2/2... Step: 3300... Loss: 2.451490... Val Loss: 0.004757\n",
      "Epoch: 2/2... Step: 3400... Loss: 0.130426... Val Loss: 0.008700\n",
      "Epoch: 2/2... Step: 3500... Loss: 0.010598... Val Loss: 0.006686\n",
      "Epoch: 2/2... Step: 3600... Loss: 3.934915... Val Loss: 0.009829\n",
      "Epoch: 2/2... Step: 3700... Loss: 0.018113... Val Loss: 0.038856\n",
      "Epoch: 2/2... Step: 3800... Loss: 0.013276... Val Loss: 0.076117\n",
      "Epoch: 2/2... Step: 3900... Loss: 0.001905... Val Loss: 0.017599\n",
      "Epoch: 2/2... Step: 4000... Loss: 0.089011... Val Loss: 0.009964\n",
      "Epoch: 2/2... Step: 4100... Loss: 0.035488... Val Loss: 0.072701\n",
      "Epoch: 2/2... Step: 4200... Loss: 0.002408... Val Loss: 0.014484\n",
      "Epoch: 2/2... Step: 4300... Loss: 0.009183... Val Loss: 0.002757\n",
      "Epoch: 2/2... Step: 4400... Loss: 0.010567... Val Loss: 0.019869\n",
      "Epoch: 2/2... Step: 4500... Loss: 0.329125... Val Loss: 0.011560\n",
      "Epoch: 2/2... Step: 4600... Loss: 0.080042... Val Loss: 0.054684\n",
      "Epoch: 2/2... Step: 4700... Loss: 0.002469... Val Loss: 0.021632\n",
      "Epoch: 2/2... Step: 4800... Loss: 0.018689... Val Loss: 0.003787\n",
      "Epoch: 2/2... Step: 4900... Loss: 0.013925... Val Loss: 0.002329\n"
     ]
    }
   ],
   "source": [
    "epochs = 2\n",
    "count = 0\n",
    "print_every = 100\n",
    "clip = 5 \n",
    "\n",
    "net.train()\n",
    "for e in range(epochs):\n",
    "    # initialize lstm's hidden layer \n",
    "    h = net.init_hidden(batch_size)\n",
    "    for inputs, labels in train_loader:\n",
    "        count += 1\n",
    "        h = tuple([each.data for each in h])\n",
    "        \n",
    "        # training process\n",
    "        net.zero_grad()\n",
    "        outputs, h = net(inputs, h)\n",
    "        loss = criterion(outputs.squeeze(), labels.float())\n",
    "        loss.backward()\n",
    "        nn.utils.clip_grad_norm(net.parameters(), clip)\n",
    "        optimizer.step()\n",
    "        \n",
    "        # print average training losses\n",
    "        if count % print_every == 0:\n",
    "            val_h = net.init_hidden(batch_size)\n",
    "            val_losses = []\n",
    "            net.eval()\n",
    "            for inputs, labels in valid_loader:\n",
    "                val_h = tuple([each.data for each in val_h])\n",
    "            outputs, val_h = net(inputs, val_h)\n",
    "            val_loss = criterion(outputs.squeeze(), labels.float())\n",
    "            val_losses.append(val_loss.item())\n",
    "        \n",
    "            net.train()\n",
    "            print(\"Epoch: {}/{}...\".format(e+1, epochs),\n",
    "                  \"Step: {}...\".format(count),\n",
    "                  \"Loss: {:.6f}...\".format(loss.item()),\n",
    "                  \"Val Loss: {:.6f}\".format(np.mean(val_losses)))"
   ]
  },
  {
   "cell_type": "markdown",
   "metadata": {
    "papermill": {
     "duration": 0.046029,
     "end_time": "2020-08-10T17:26:15.124390",
     "exception": false,
     "start_time": "2020-08-10T17:26:15.078361",
     "status": "completed"
    },
    "tags": []
   },
   "source": [
    "## Calculating model's accuracy\n"
   ]
  },
  {
   "cell_type": "code",
   "execution_count": 59,
   "metadata": {
    "execution": {
     "iopub.execute_input": "2020-08-10T17:26:15.248279Z",
     "iopub.status.busy": "2020-08-10T17:26:15.247230Z",
     "iopub.status.idle": "2020-08-10T17:26:15.903460Z",
     "shell.execute_reply": "2020-08-10T17:26:15.904471Z"
    },
    "papermill": {
     "duration": 0.726371,
     "end_time": "2020-08-10T17:26:15.904670",
     "exception": false,
     "start_time": "2020-08-10T17:26:15.178299",
     "status": "completed"
    },
    "scrolled": true,
    "tags": []
   },
   "outputs": [
    {
     "name": "stdout",
     "output_type": "stream",
     "text": [
      "Test loss: 0.358\n",
      "Test accuracy: 0.858\n"
     ]
    }
   ],
   "source": [
    "test_losses = []\n",
    "num_correct = 0\n",
    "\n",
    "h = net.init_hidden(batch_size)\n",
    "net.eval()\n",
    "\n",
    "for inputs, labels in test_loader:\n",
    "    h = tuple([each.data for each in h])\n",
    "    \n",
    "    outputs, h = net(inputs, h)\n",
    "    test_loss = criterion(outputs.squeeze(), labels.float())\n",
    "    test_losses.append(test_loss.item())\n",
    "    pred = torch.round(outputs.squeeze())\n",
    "    correct_tensor = pred.eq(labels.float().view_as(pred))\n",
    "    correct = np.squeeze(correct_tensor.numpy()) if not gpu_available else np.squeeze(correct_tensor.cpu().numpy())\n",
    "    num_correct += np.sum(correct)\n",
    "\n",
    "# printing average statistics\n",
    "print(\"Test loss: {:.3f}\".format(np.mean(test_losses)))\n",
    "    \n",
    "# accuracy over all test data\n",
    "test_acc = num_correct/len(test_loader.dataset)\n",
    "print(\"Test accuracy: {:.3f}\".format(test_acc))"
   ]
  },
  {
   "cell_type": "markdown",
   "metadata": {
    "papermill": {
     "duration": 0.045005,
     "end_time": "2020-08-10T17:26:15.999142",
     "exception": false,
     "start_time": "2020-08-10T17:26:15.954137",
     "status": "completed"
    },
    "tags": []
   },
   "source": [
    "## Testing model on random tweet\n"
   ]
  },
  {
   "cell_type": "code",
   "execution_count": 60,
   "metadata": {
    "execution": {
     "iopub.execute_input": "2020-08-10T17:26:16.096605Z",
     "iopub.status.busy": "2020-08-10T17:26:16.095713Z",
     "iopub.status.idle": "2020-08-10T17:26:16.099839Z",
     "shell.execute_reply": "2020-08-10T17:26:16.099337Z"
    },
    "papermill": {
     "duration": 0.056411,
     "end_time": "2020-08-10T17:26:16.099965",
     "exception": false,
     "start_time": "2020-08-10T17:26:16.043554",
     "status": "completed"
    },
    "tags": []
   },
   "outputs": [],
   "source": [
    "from string import punctuation\n",
    "\n",
    "def tokenize_covid_tweet(tweet):\n",
    "    test_ints = []\n",
    "    test_ints.append([vocab_to_int[word] for word in tweet])\n",
    "    return test_ints"
   ]
  },
  {
   "cell_type": "code",
   "execution_count": 61,
   "metadata": {
    "execution": {
     "iopub.execute_input": "2020-08-10T17:26:16.201434Z",
     "iopub.status.busy": "2020-08-10T17:26:16.200573Z",
     "iopub.status.idle": "2020-08-10T17:26:16.204634Z",
     "shell.execute_reply": "2020-08-10T17:26:16.204086Z"
    },
    "papermill": {
     "duration": 0.058914,
     "end_time": "2020-08-10T17:26:16.204791",
     "exception": false,
     "start_time": "2020-08-10T17:26:16.145877",
     "status": "completed"
    },
    "tags": []
   },
   "outputs": [],
   "source": [
    "def predict_covid_sentiment(net, test_tweet, seq_length=50):\n",
    "    print('Original Sentence :')\n",
    "    print(test_tweet)\n",
    "    \n",
    "    print('\\nAfter removing punctuations and stop-words :')\n",
    "    test_tweet = punctuation_stopwords_removal(test_tweet)\n",
    "    print(test_tweet)\n",
    "    \n",
    "    print('\\nAfter converting pre-processed tweet to tokens :')\n",
    "    tokenized_tweet = tokenize_covid_tweet(test_tweet)\n",
    "    print(tokenized_tweet)\n",
    "    \n",
    "    print('\\nAfter padding the tokens into fixed sequence lengths :')\n",
    "    padded_tweet = pad_features(tokenized_tweet, 50)\n",
    "    print(padded_tweet)\n",
    "    \n",
    "    feature_tensor = torch.from_numpy(padded_tweet)\n",
    "    batch_size = feature_tensor.size(0)\n",
    "    \n",
    "    \n",
    "    h = net.init_hidden(batch_size)\n",
    "    output, h = net(feature_tensor, h)\n",
    "    \n",
    "    predicted_sentiment = torch.round(output.squeeze())\n",
    "    print('\\n==========Predicted Sentiment==========\\n')\n",
    "    if predicted_sentiment == 1:\n",
    "        print('Happy')\n",
    "    else:\n",
    "        print('Sad')\n",
    "    print('\\n==========Predicted Sentiment==========\\n')\n"
   ]
  },
  {
   "cell_type": "code",
   "execution_count": 62,
   "metadata": {
    "execution": {
     "iopub.execute_input": "2020-08-10T17:26:16.305331Z",
     "iopub.status.busy": "2020-08-10T17:26:16.304413Z",
     "iopub.status.idle": "2020-08-10T17:26:16.322926Z",
     "shell.execute_reply": "2020-08-10T17:26:16.319058Z"
    },
    "papermill": {
     "duration": 0.070532,
     "end_time": "2020-08-10T17:26:16.323057",
     "exception": false,
     "start_time": "2020-08-10T17:26:16.252525",
     "status": "completed"
    },
    "tags": []
   },
   "outputs": [
    {
     "name": "stdout",
     "output_type": "stream",
     "text": [
      "Original Sentence :\n",
      "It is very sad to see the corona pandemic increasing at such an alarming rate\n",
      "\n",
      "After removing punctuations and stop-words :\n",
      "['sad', 'see', 'corona', 'pandemic', 'increasing', 'alarming', 'rate']\n",
      "\n",
      "After converting pre-processed tweet to tokens :\n",
      "[[328, 63, 2, 28, 1964, 6137, 267]]\n",
      "\n",
      "After padding the tokens into fixed sequence lengths :\n",
      "[[   0    0    0    0    0    0    0    0    0    0    0    0    0    0\n",
      "     0    0    0    0    0    0    0    0    0    0    0    0    0    0\n",
      "     0    0    0    0    0    0    0    0    0    0    0    0    0    0\n",
      "     0  328   63    2   28 1964 6137  267]]\n",
      "\n",
      "==========Predicted Sentiment==========\n",
      "\n",
      "Sad\n",
      "\n",
      "==========Predicted Sentiment==========\n",
      "\n"
     ]
    }
   ],
   "source": [
    "test_sad_tweet = 'It is very sad to see the corona pandemic increasing at such an alarming rate'\n",
    "predict_covid_sentiment(net, test_sad_tweet)"
   ]
  },
  {
   "cell_type": "code",
   "execution_count": 65,
   "metadata": {
    "execution": {
     "iopub.execute_input": "2020-08-10T17:26:16.419996Z",
     "iopub.status.busy": "2020-08-10T17:26:16.419348Z",
     "iopub.status.idle": "2020-08-10T17:26:16.435905Z",
     "shell.execute_reply": "2020-08-10T17:26:16.435354Z"
    },
    "papermill": {
     "duration": 0.066346,
     "end_time": "2020-08-10T17:26:16.436020",
     "exception": false,
     "start_time": "2020-08-10T17:26:16.369674",
     "status": "completed"
    },
    "tags": []
   },
   "outputs": [
    {
     "name": "stdout",
     "output_type": "stream",
     "text": [
      "Original Sentence :\n",
      "It is amazing to see that New Zealand reaches 100 days without transmission!\n",
      "\n",
      "After removing punctuations and stop-words :\n",
      "['amazing', 'see', 'new', 'zealand', 'reaches', '100', 'days', 'without', 'transmission']\n",
      "\n",
      "After converting pre-processed tweet to tokens :\n",
      "[[642, 63, 30, 9453, 8081, 225, 35, 125, 1326]]\n",
      "\n",
      "After padding the tokens into fixed sequence lengths :\n",
      "[[   0    0    0    0    0    0    0    0    0    0    0    0    0    0\n",
      "     0    0    0    0    0    0    0    0    0    0    0    0    0    0\n",
      "     0    0    0    0    0    0    0    0    0    0    0    0    0  642\n",
      "    63   30 9453 8081  225   35  125 1326]]\n",
      "\n",
      "==========Predicted Sentiment==========\n",
      "\n",
      "Happy\n",
      "\n",
      "==========Predicted Sentiment==========\n",
      "\n"
     ]
    }
   ],
   "source": [
    "test_happy_tweet = 'It is amazing to see that New Zealand reaches 100 days without transmission!'\n",
    "predict_covid_sentiment(net, test_happy_tweet)"
   ]
  },
  {
   "cell_type": "code",
   "execution_count": 66,
   "metadata": {
    "papermill": {
     "duration": 0.043072,
     "end_time": "2020-08-10T17:26:16.525210",
     "exception": false,
     "start_time": "2020-08-10T17:26:16.482138",
     "status": "completed"
    },
    "tags": []
   },
   "outputs": [],
   "source": [
    "torch.save(net.state_dict(), 'checkpoint.pth')"
   ]
  }
 ],
 "metadata": {
  "kernelspec": {
   "display_name": "Python 3",
   "language": "python",
   "name": "python3"
  },
  "language_info": {
   "codemirror_mode": {
    "name": "ipython",
    "version": 3
   },
   "file_extension": ".py",
   "mimetype": "text/x-python",
   "name": "python",
   "nbconvert_exporter": "python",
   "pygments_lexer": "ipython3",
   "version": "3.7.1"
  },
  "papermill": {
   "duration": 148.173584,
   "end_time": "2020-08-10T17:26:17.084286",
   "environment_variables": {},
   "exception": null,
   "input_path": "__notebook__.ipynb",
   "output_path": "__notebook__.ipynb",
   "parameters": {},
   "start_time": "2020-08-10T17:23:48.910702",
   "version": "2.1.0"
  }
 },
 "nbformat": 4,
 "nbformat_minor": 4
}
